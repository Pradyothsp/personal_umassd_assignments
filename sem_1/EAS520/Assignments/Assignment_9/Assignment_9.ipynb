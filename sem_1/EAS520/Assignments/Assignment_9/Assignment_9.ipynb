{
  "nbformat": 4,
  "nbformat_minor": 0,
  "metadata": {
    "colab": {
      "provenance": []
    },
    "kernelspec": {
      "name": "python3",
      "display_name": "Python 3"
    },
    "language_info": {
      "name": "python"
    },
    "gpuClass": "standard",
    "accelerator": "GPU"
  },
  "cells": [
    {
      "cell_type": "code",
      "source": [
        "import numpy as np\n",
        "import cupy as cp\n",
        "from time import time\n",
        "import pandas as pd"
      ],
      "metadata": {
        "id": "vMARQVdtpHgg"
      },
      "execution_count": 1,
      "outputs": []
    },
    {
      "cell_type": "code",
      "source": [
        "for i in ['single','double']:\n",
        "    A = np.ndarray((2000,2000), dtype=i)\n",
        "    B = np.ndarray((2000,1), dtype=i)\n",
        "\n",
        "    start_time = time()\n",
        "\n",
        "    for j in range(20001):\n",
        "        a = A * B\n",
        "\n",
        "    end_time = time()\n",
        "\n",
        "    print(f\"CPU with {i} precision, time taken: {end_time-start_time}\")"
      ],
      "metadata": {
        "id": "o3E52M3A9Q_M",
        "colab": {
          "base_uri": "https://localhost:8080/"
        },
        "outputId": "3ce79833-fc89-41f0-ed70-d15f3fa68b38"
      },
      "execution_count": 2,
      "outputs": [
        {
          "output_type": "stream",
          "name": "stdout",
          "text": [
            "CPU with single precision, time taken: 58.728126525878906\n",
            "CPU with double precision, time taken: 111.16313433647156\n"
          ]
        }
      ]
    },
    {
      "cell_type": "code",
      "source": [
        "for i in ['single','double']:\n",
        "\n",
        "    A = cp.ndarray((2000,2000), dtype=i)\n",
        "    B = cp.ndarray((2000,1), dtype=i)\n",
        "\n",
        "\n",
        "    start_time = time()\n",
        "    \n",
        "    for j in range(20001):\n",
        "        a = A * B\n",
        "    \n",
        "    end_time = time()\n",
        "    \n",
        "    print(f\"GPU with {i} precision, time taken: {end_time-start_time}\")"
      ],
      "metadata": {
        "id": "y7kgKX6epw6P",
        "colab": {
          "base_uri": "https://localhost:8080/"
        },
        "outputId": "84e2b607-8e1d-4dae-891b-efef52b1a92b"
      },
      "execution_count": 3,
      "outputs": [
        {
          "output_type": "stream",
          "name": "stdout",
          "text": [
            "GPU with single precision, time taken: 3.0108110904693604\n",
            "GPU with double precision, time taken: 5.209822416305542\n"
          ]
        }
      ]
    }
  ]
}
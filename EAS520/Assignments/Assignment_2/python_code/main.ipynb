{
 "cells": [
  {
   "cell_type": "markdown",
   "metadata": {},
   "source": [
    "#### Problem 1:\n",
    "Writing 'time consuming function'"
   ]
  },
  {
   "cell_type": "code",
   "execution_count": 1,
   "metadata": {},
   "outputs": [],
   "source": [
    "import time\n",
    "\n",
    "from function import time_consuming_function"
   ]
  },
  {
   "cell_type": "code",
   "execution_count": 2,
   "metadata": {},
   "outputs": [
    {
     "name": "stdout",
     "output_type": "stream",
     "text": [
      "Executing function 1 time: 5.004389762878418\n"
     ]
    }
   ],
   "source": [
    "start_time = time.time()\n",
    "\n",
    "time_consuming_function()\n",
    "\n",
    "print(\"Executing function 1 time: {0}\".format(time.time() - start_time))"
   ]
  },
  {
   "cell_type": "code",
   "execution_count": 3,
   "metadata": {},
   "outputs": [
    {
     "name": "stdout",
     "output_type": "stream",
     "text": [
      "Executing function using for loop for N = 8 time t1: 40.025580167770386\n"
     ]
    }
   ],
   "source": [
    "N = 8\n",
    "\n",
    "t1 = time.time()\n",
    "\n",
    "for i in range(N):\n",
    "    time_consuming_function()\n",
    "\n",
    "t1 = time.time() - t1\n",
    "\n",
    "print(\"Executing function using for loop for N = {0} time t1: {1}\".format(N, t1))"
   ]
  },
  {
   "cell_type": "markdown",
   "metadata": {},
   "source": [
    "### Parallelizeing "
   ]
  },
  {
   "cell_type": "code",
   "execution_count": 4,
   "metadata": {},
   "outputs": [],
   "source": [
    "import multiprocessing as mp"
   ]
  },
  {
   "cell_type": "code",
   "execution_count": 5,
   "metadata": {},
   "outputs": [],
   "source": [
    "def main(n, sleep_time=5):\n",
    "    start_time = time.time()\n",
    "    _n = [1]*n\n",
    "    pool = mp.Pool(mp.cpu_count())\n",
    "    _ = pool.starmap(time_consuming_function, [(i, sleep_time) for i in _n])\n",
    "    pool.close()\n",
    "\n",
    "    return time.time() - start_time\n"
   ]
  },
  {
   "cell_type": "code",
   "execution_count": 7,
   "metadata": {},
   "outputs": [
    {
     "name": "stdout",
     "output_type": "stream",
     "text": [
      "p = 8, \n",
      "tp = 5.288182020187378\n"
     ]
    }
   ],
   "source": [
    "p = mp.cpu_count()\n",
    "tp = main(n=8)\n",
    "print(\"p = {}, \\ntp = {}\".format(p, tp))"
   ]
  },
  {
   "cell_type": "code",
   "execution_count": 8,
   "metadata": {},
   "outputs": [],
   "source": [
    "def get_speed_up(t, tp):\n",
    "    return t/tp\n",
    "\n",
    "def get_avg_efficiency(sp, p):\n",
    "    return (sp/p)*100"
   ]
  },
  {
   "cell_type": "code",
   "execution_count": 9,
   "metadata": {},
   "outputs": [],
   "source": [
    "def _print(p, for_n, speed_up, avg_efficiency):\n",
    "    print(\"For n = {0}, speedup is = {1}, average_efficiency is = {2}%\".format(for_n, speed_up, avg_efficiency))"
   ]
  },
  {
   "cell_type": "code",
   "execution_count": 14,
   "metadata": {},
   "outputs": [],
   "source": [
    "def get_speedups(sleep_time=5, n1=16, n2=54, n3=400):\n",
    "    tp1 = main(n=n1, sleep_time=sleep_time)\n",
    "    tp2 = main(n=n2, sleep_time=sleep_time)\n",
    "    tp3 = main(n=n3, sleep_time=sleep_time)\n",
    "\n",
    "    speed_up_1 = get_speed_up(n1*sleep_time, tp1)\n",
    "    speed_up_2 = get_speed_up(n2*sleep_time, tp2)\n",
    "    speed_up_3 = get_speed_up(n3*sleep_time, tp3)\n",
    "    return speed_up_1, speed_up_2, speed_up_3"
   ]
  },
  {
   "cell_type": "markdown",
   "metadata": {},
   "source": [
    "#### When no major task is running in background"
   ]
  },
  {
   "cell_type": "code",
   "execution_count": 15,
   "metadata": {},
   "outputs": [
    {
     "name": "stdout",
     "output_type": "stream",
     "text": [
      "For n = 16, speedup is = 7.79734162733867, average_efficiency is = 97.46677034173338%\n",
      "For n = 54, speedup is = 6.718746875974733, average_efficiency is = 83.98433594968417%\n",
      "For n = 400, speedup is = 7.681804985052802, average_efficiency is = 96.02256231316002%\n"
     ]
    }
   ],
   "source": [
    "N1, N2, N3 = 16, 54, 400\n",
    "speed_up_1, speed_up_2, speed_up_3 = get_speedups(sleep_time=5, n1=N1, n2=N2, n3=N3)\n",
    "_print(p, N1, speed_up_1, get_avg_efficiency(speed_up_1, p))\n",
    "_print(p, N2, speed_up_2, get_avg_efficiency(speed_up_2, p))\n",
    "_print(p, N3, speed_up_3, get_avg_efficiency(speed_up_3, p))\n"
   ]
  },
  {
   "cell_type": "markdown",
   "metadata": {},
   "source": [
    "#### Problem 2: Background processes case.\n",
    "When several 4K videos on youtube on several tabs in the browser is running is background."
   ]
  },
  {
   "cell_type": "code",
   "execution_count": 18,
   "metadata": {},
   "outputs": [
    {
     "name": "stdout",
     "output_type": "stream",
     "text": [
      "For n = 16, speedup is = 7.335206832178229, average_efficiency is = 91.69008540222787%\n",
      "For n = 54, speedup is = 6.704647720329827, average_efficiency is = 83.80809650412284%\n",
      "For n = 400, speedup is = 7.6722128467843005, average_efficiency is = 95.90266058480375%\n"
     ]
    }
   ],
   "source": [
    "speed_up_1, speed_up_2, speed_up_3 = get_speedups(sleep_time=5, n1=16, n2=54, n3=400)\n",
    "_print(p, N1, speed_up_1, get_avg_efficiency(speed_up_1, p))\n",
    "_print(p, N2, speed_up_2, get_avg_efficiency(speed_up_2, p))\n",
    "_print(p, N3, speed_up_3, get_avg_efficiency(speed_up_3, p))"
   ]
  },
  {
   "cell_type": "markdown",
   "metadata": {},
   "source": [
    "**Conclusion:** when runniging 4K videos on 4 tabs, it speedup and average efficiency slightly changed (negligible). I ran the code in MacOS. May be it optimized better."
   ]
  },
  {
   "cell_type": "markdown",
   "metadata": {},
   "source": [
    "#### Problem 3: Random running time scenario."
   ]
  },
  {
   "cell_type": "code",
   "execution_count": 16,
   "metadata": {},
   "outputs": [
    {
     "data": {
      "text/plain": [
       "1"
      ]
     },
     "execution_count": 16,
     "metadata": {},
     "output_type": "execute_result"
    }
   ],
   "source": [
    "import random\n",
    "sleep_time = random.randint(1, 5)\n",
    "sleep_time"
   ]
  },
  {
   "cell_type": "code",
   "execution_count": 17,
   "metadata": {},
   "outputs": [
    {
     "name": "stdout",
     "output_type": "stream",
     "text": [
      "For n = 16, speedup is = 7.135459816452579, average_efficiency is = 89.19324770565724%\n",
      "For n = 54, speedup is = 6.550397204514992, average_efficiency is = 81.8799650564374%\n",
      "For n = 400, speedup is = 7.638220822541703, average_efficiency is = 95.47776028177128%\n"
     ]
    }
   ],
   "source": [
    "speed_up_1, speed_up_2, speed_up_3 = get_speedups(sleep_time=sleep_time, n1=16, n2=54, n3=400)\n",
    "_print(p, N1, speed_up_1, get_avg_efficiency(speed_up_1, p))\n",
    "_print(p, N2, speed_up_2, get_avg_efficiency(speed_up_2, p))\n",
    "_print(p, N3, speed_up_3, get_avg_efficiency(speed_up_3, p))"
   ]
  },
  {
   "cell_type": "code",
   "execution_count": null,
   "metadata": {},
   "outputs": [],
   "source": []
  }
 ],
 "metadata": {
  "kernelspec": {
   "display_name": "Python 3.9.6 ('.venv': venv)",
   "language": "python",
   "name": "python3"
  },
  "language_info": {
   "codemirror_mode": {
    "name": "ipython",
    "version": 3
   },
   "file_extension": ".py",
   "mimetype": "text/x-python",
   "name": "python",
   "nbconvert_exporter": "python",
   "pygments_lexer": "ipython3",
   "version": "3.9.6"
  },
  "orig_nbformat": 4,
  "vscode": {
   "interpreter": {
    "hash": "060c7f4942eae9800529814f6073c8f71ac9bb2ea18de093cd05e9f7343e8d53"
   }
  }
 },
 "nbformat": 4,
 "nbformat_minor": 2
}

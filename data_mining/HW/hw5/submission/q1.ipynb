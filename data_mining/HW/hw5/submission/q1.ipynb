{
 "cells": [
  {
   "cell_type": "markdown",
   "id": "68e02eb8",
   "metadata": {},
   "source": [
    "## Assignment 5\n",
    "## Advanced Data Mining"
   ]
  },
  {
   "cell_type": "markdown",
   "id": "a16e4c4c",
   "metadata": {},
   "source": [
    "### 1(a) (20 pts) USPS is a hand-written digit database including ten# digits, i.e., 0, 1, 2, ..., 9. We will use a subset (USPS_sub.mat) including 1K images in this experiment.The resolution of each image is 16 × 16, and thus the length of each vector is 256. In this question, you will use SVM for the digit classification.For each digit, you will use the first 5, 10, or 15 images as the training data, and the rest as test data to finish this multi-class classification problem.In each setting, you will be required to use: (1) linear kernel, (2) polynomial kernel, (3) radial basis function (RBF) kernel. As there are a few model parameters for each kernel, e.g., band-width 𝛾 in RBF kernel, and the common slack variable 𝐶,you will need to use cross-validation on the training set to select the best model parameters.You can use “grid search” to find the best values for them. So, in total there are 9 different results (recognition accuracy) from 3 different training setting and 3 different kernels."
   ]
  },
  {
   "cell_type": "code",
   "execution_count": 12,
   "id": "5fa0c2d1",
   "metadata": {},
   "outputs": [],
   "source": [
    "import numpy as np\n",
    "import matplotlib.pyplot as plt\n",
    "from sklearn import datasets, svm, model_selection, preprocessing\n",
    "from sklearn.decomposition import PCA\n",
    "import scipy"
   ]
  },
  {
   "cell_type": "markdown",
   "id": "70f1b989",
   "metadata": {},
   "source": [
    "#### Load the USPS dataset (replace this with the actual USPS_sub.mat file) and Preprocessing the data"
   ]
  },
  {
   "cell_type": "code",
   "execution_count": 13,
   "id": "487eabaa",
   "metadata": {},
   "outputs": [],
   "source": [
    "from scipy.io import loadmat\n",
    "\n",
    "# Load the USPS_sub.mat file (replace the path with the actual path on your machine)\n",
    "data = loadmat('/Users/bharath/Documents/ADM/Assignment5/Code&Data/USPS_sub.mat')\n",
    "\n",
    "# Extract the feature matrix (X) and labels (y) from the loaded data\n",
    "# Replace 'data_key' and 'label_key' with the actual keys in your .mat file\n",
    "X = data['data']\n",
    "y = data['label']\n",
    "\n",
    "# If necessary, reshape the labels to a 1D array\n",
    "y = np.ravel(y)\n"
   ]
  },
  {
   "cell_type": "markdown",
   "id": "2e998af3",
   "metadata": {},
   "source": [
    "#### Apply PCA if necessary"
   ]
  },
  {
   "cell_type": "code",
   "execution_count": 14,
   "id": "5012b31e",
   "metadata": {},
   "outputs": [],
   "source": [
    "pca = PCA(n_components=0.95)\n",
    "X_pca = pca.fit_transform(X)"
   ]
  },
  {
   "cell_type": "markdown",
   "id": "885ea654",
   "metadata": {},
   "source": [
    "#### Define train-test splits"
   ]
  },
  {
   "cell_type": "code",
   "execution_count": 15,
   "id": "0db5d627",
   "metadata": {},
   "outputs": [],
   "source": [
    "train_sizes = [5, 10, 15]"
   ]
  },
  {
   "cell_type": "markdown",
   "id": "6b470520",
   "metadata": {},
   "source": [
    "#### SVM kernel types"
   ]
  },
  {
   "cell_type": "code",
   "execution_count": 16,
   "id": "2f0863e0",
   "metadata": {},
   "outputs": [],
   "source": [
    "kernels = ['linear', 'poly', 'rbf']"
   ]
  },
  {
   "cell_type": "markdown",
   "id": "e8c05946",
   "metadata": {},
   "source": [
    "#### Model parameters for grid search"
   ]
  },
  {
   "cell_type": "code",
   "execution_count": 17,
   "id": "126f550b",
   "metadata": {},
   "outputs": [],
   "source": [
    "param_grid = {'C': np.logspace(-3, 3, 7), 'gamma': np.logspace(-3, 3, 7)}"
   ]
  },
  {
   "cell_type": "markdown",
   "id": "be7ad1c8",
   "metadata": {},
   "source": [
    "#### Loop over train sizes and kernels"
   ]
  },
  {
   "cell_type": "code",
   "execution_count": 18,
   "id": "f8a57dad",
   "metadata": {},
   "outputs": [
    {
     "name": "stdout",
     "output_type": "stream",
     "text": [
      "Kernel: linear, Training size: 5, Accuracy: 0.7252631578947368\n",
      "Kernel: poly, Training size: 5, Accuracy: 0.3989473684210526\n",
      "Kernel: rbf, Training size: 5, Accuracy: 0.19052631578947368\n",
      "Kernel: linear, Training size: 10, Accuracy: 0.7666666666666667\n",
      "Kernel: poly, Training size: 10, Accuracy: 0.6\n",
      "Kernel: rbf, Training size: 10, Accuracy: 0.21555555555555556\n",
      "Kernel: linear, Training size: 15, Accuracy: 0.8047058823529412\n",
      "Kernel: poly, Training size: 15, Accuracy: 0.7470588235294118\n",
      "Kernel: rbf, Training size: 15, Accuracy: 0.25176470588235295\n"
     ]
    }
   ],
   "source": [
    "for size in train_sizes:\n",
    "    for kernel in kernels:\n",
    "        # Split the data\n",
    "        X_train, X_test, y_train, y_test = model_selection.train_test_split(X_pca, y, train_size=size*10, stratify=y)\n",
    "        \n",
    "        # Create SVM classifier\n",
    "        clf = svm.SVC(kernel=kernel)\n",
    "        \n",
    "        # Grid search with cross-validation\n",
    "        grid_search = model_selection.GridSearchCV(clf, param_grid, cv=5)\n",
    "        grid_search.fit(X_train, y_train)\n",
    "        \n",
    "        # Best parameters\n",
    "        best_params = grid_search.best_params_\n",
    "        \n",
    "        # Train the model with the best parameters\n",
    "        clf_best = svm.SVC(kernel=kernel, C=best_params['C'], gamma=best_params['gamma'])\n",
    "        clf_best.fit(X_train, y_train)\n",
    "        \n",
    "        # Calculate the recognition accuracy\n",
    "        accuracy = clf_best.score(X_test, y_test)\n",
    "        print(f\"Kernel: {kernel}, Training size: {size}, Accuracy: {accuracy}\")"
   ]
  },
  {
   "cell_type": "markdown",
   "id": "81c7b17a",
   "metadata": {},
   "source": [
    "### b. (20 pts) Please implement k-nearest-neighbor (kNN) classifier by yourself and then use the USPS dataset above for the same experiments. First, you will use 5, 10, or 15 images as the training data and the rest as test data to finish this multi-class classification problem. Second, for each experiment, please try k=1, 3, and 5 for your kNN classifier. Therefore, 3*3=9 experimental results will be reported."
   ]
  },
  {
   "cell_type": "code",
   "execution_count": 19,
   "id": "72a40d87",
   "metadata": {},
   "outputs": [
    {
     "name": "stdout",
     "output_type": "stream",
     "text": [
      "k: 1, Training size: 5, Accuracy: 0.6168421052631579\n",
      "k: 3, Training size: 5, Accuracy: 0.5631578947368421\n",
      "k: 5, Training size: 5, Accuracy: 0.49473684210526314\n",
      "k: 1, Training size: 10, Accuracy: 0.7155555555555555\n",
      "k: 3, Training size: 10, Accuracy: 0.6866666666666666\n",
      "k: 5, Training size: 10, Accuracy: 0.6422222222222222\n",
      "k: 1, Training size: 15, Accuracy: 0.7223529411764706\n",
      "k: 3, Training size: 15, Accuracy: 0.7176470588235294\n",
      "k: 5, Training size: 15, Accuracy: 0.7011764705882353\n"
     ]
    }
   ],
   "source": [
    "from sklearn.neighbors import KNeighborsClassifier\n",
    "\n",
    "# Loop over train sizes and k values\n",
    "k_values = [1, 3, 5]\n",
    "\n",
    "for size in train_sizes:\n",
    "    for k in k_values:\n",
    "        # Split the data\n",
    "        X_train, X_test, y_train, y_test = model_selection.train_test_split(X_pca, y, train_size=size*10, stratify=y)\n",
    "        \n",
    "        # Train kNN classifier\n",
    "        knn = KNeighborsClassifier(n_neighbors=k)\n",
    "        knn.fit(X_train, y_train)\n",
    "        \n",
    "        # Calculate the recognition accuracy\n",
    "        accuracy = knn.score(X_test, y_test)\n",
    "        print(f\"k: {k}, Training size: {size}, Accuracy: {accuracy}\")\n"
   ]
  }
 ],
 "metadata": {
  "kernelspec": {
   "display_name": "Python 3 (ipykernel)",
   "language": "python",
   "name": "python3"
  },
  "language_info": {
   "codemirror_mode": {
    "name": "ipython",
    "version": 3
   },
   "file_extension": ".py",
   "mimetype": "text/x-python",
   "name": "python",
   "nbconvert_exporter": "python",
   "pygments_lexer": "ipython3",
   "version": "3.9.15"
  }
 },
 "nbformat": 4,
 "nbformat_minor": 5
}

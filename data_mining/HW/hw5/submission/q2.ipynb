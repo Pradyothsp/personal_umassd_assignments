{
 "cells": [
  {
   "cell_type": "code",
   "execution_count": 4,
   "id": "97137382",
   "metadata": {},
   "outputs": [],
   "source": [
    "import numpy as np\n",
    "import time\n",
    "from sklearn.cluster import KMeans\n",
    "from sklearn.metrics import normalized_mutual_info_score as nmi\n",
    "from sklearn.metrics.cluster import adjusted_rand_score as acc\n",
    "from scipy.io import loadmat"
   ]
  },
  {
   "cell_type": "code",
   "execution_count": 5,
   "id": "74ff093b",
   "metadata": {},
   "outputs": [],
   "source": [
    "# Load the USPS_sub.mat file (replace the path with the actual path on your machine)\n",
    "digits = loadmat('/Users/bharath/Documents/ADM/Assignment5/Code&Data/USPS_sub.mat')\n",
    "\n",
    "# Extract the feature matrix (X) and labels (y) from the loaded data\n",
    "# Replace 'data_key' and 'label_key' with the actual keys in your .mat file\n",
    "X = digits['data']\n",
    "y = digits['label']\n",
    "\n",
    "# If necessary, reshape the labels to a 1D array\n",
    "y = np.ravel(y)\n",
    "\n",
    "\n"
   ]
  },
  {
   "cell_type": "code",
   "execution_count": 6,
   "id": "70b3b99e",
   "metadata": {},
   "outputs": [],
   "source": [
    "# Number of trials\n",
    "n_trials = 5"
   ]
  },
  {
   "cell_type": "code",
   "execution_count": 7,
   "id": "728ef65e",
   "metadata": {},
   "outputs": [
    {
     "name": "stderr",
     "output_type": "stream",
     "text": [
      "/Users/bharath/opt/anaconda3/envs/Tensorflow/lib/python3.9/site-packages/sklearn/cluster/_kmeans.py:870: FutureWarning: The default value of `n_init` will change from 10 to 'auto' in 1.4. Set the value of `n_init` explicitly to suppress the warning\n",
      "  warnings.warn(\n",
      "/Users/bharath/opt/anaconda3/envs/Tensorflow/lib/python3.9/site-packages/sklearn/cluster/_kmeans.py:870: FutureWarning: The default value of `n_init` will change from 10 to 'auto' in 1.4. Set the value of `n_init` explicitly to suppress the warning\n",
      "  warnings.warn(\n",
      "/Users/bharath/opt/anaconda3/envs/Tensorflow/lib/python3.9/site-packages/sklearn/cluster/_kmeans.py:870: FutureWarning: The default value of `n_init` will change from 10 to 'auto' in 1.4. Set the value of `n_init` explicitly to suppress the warning\n",
      "  warnings.warn(\n",
      "/Users/bharath/opt/anaconda3/envs/Tensorflow/lib/python3.9/site-packages/sklearn/cluster/_kmeans.py:870: FutureWarning: The default value of `n_init` will change from 10 to 'auto' in 1.4. Set the value of `n_init` explicitly to suppress the warning\n",
      "  warnings.warn(\n",
      "/Users/bharath/opt/anaconda3/envs/Tensorflow/lib/python3.9/site-packages/sklearn/cluster/_kmeans.py:870: FutureWarning: The default value of `n_init` will change from 10 to 'auto' in 1.4. Set the value of `n_init` explicitly to suppress the warning\n",
      "  warnings.warn(\n"
     ]
    }
   ],
   "source": [
    "# Results\n",
    "accs = []\n",
    "nmis = []\n",
    "running_times = []\n",
    "\n",
    "for trial in range(n_trials):\n",
    "    # K-means clustering\n",
    "    kmeans = KMeans(n_clusters=10, random_state=trial)\n",
    "    \n",
    "    # Start timing\n",
    "    start_time = time.time()\n",
    "    \n",
    "    # Fit the model\n",
    "    kmeans.fit(X)\n",
    "    \n",
    "    # End timing\n",
    "    end_time = time.time()\n",
    "    \n",
    "    # Calculate metrics\n",
    "    acc_value = acc(y, kmeans.labels_)\n",
    "    nmi_value = nmi(y, kmeans.labels_)\n",
    "    running_time = end_time - start_time\n",
    "    \n",
    "    # Append results\n",
    "    accs.append(acc_value)\n",
    "    nmis.append(nmi_value)\n",
    "    running_times.append(running_time)"
   ]
  },
  {
   "cell_type": "code",
   "execution_count": 8,
   "id": "87dad155",
   "metadata": {},
   "outputs": [],
   "source": [
    "# Calculate average and standard deviation\n",
    "avg_acc = np.mean(accs)\n",
    "std_acc = np.std(accs)\n",
    "avg_nmi = np.mean(nmis)\n",
    "std_nmi = np.std(nmis)\n",
    "avg_running_time = np.mean(running_times)\n",
    "std_running_time = np.std(running_times)"
   ]
  },
  {
   "cell_type": "code",
   "execution_count": 9,
   "id": "5163776b",
   "metadata": {},
   "outputs": [
    {
     "name": "stdout",
     "output_type": "stream",
     "text": [
      "K-means Clustering Results:\n",
      "Average Acc: 0.31728887181175935, Std Acc: 0.02397677401492886\n",
      "Average NMI: 0.4785060090771195, Std NMI: 0.02636470160554388\n",
      "Average Running Time: 0.14132413864135743, Std Running Time: 0.02686845716306815\n"
     ]
    }
   ],
   "source": [
    "print(\"K-means Clustering Results:\")\n",
    "print(f\"Average Acc: {avg_acc}, Std Acc: {std_acc}\")\n",
    "print(f\"Average NMI: {avg_nmi}, Std NMI: {std_nmi}\")\n",
    "print(f\"Average Running Time: {avg_running_time}, Std Running Time: {std_running_time}\")\n"
   ]
  },
  {
   "cell_type": "code",
   "execution_count": 10,
   "id": "1f78ca87",
   "metadata": {},
   "outputs": [
    {
     "name": "stdout",
     "output_type": "stream",
     "text": [
      "\n",
      "Hierarchical Clustering (Single):\n",
      "Acc: 1.5502612709029693e-05\n",
      "NMI: 0.01752436468371601\n",
      "Running Time: 0.07271289825439453\n",
      "\n",
      "Hierarchical Clustering (Complete):\n",
      "Acc: 0.21759559613437726\n",
      "NMI: 0.42646243629848035\n",
      "Running Time: 0.049822092056274414\n",
      "\n",
      "Hierarchical Clustering (Weighted):\n",
      "Acc: 0.19564417810688814\n",
      "NMI: 0.40202703094583164\n",
      "Running Time: 0.04734921455383301\n",
      "\n",
      "Hierarchical Clustering (Ward):\n",
      "Acc: 0.3780245398844174\n",
      "NMI: 0.5531500593557892\n",
      "Running Time: 0.04751276969909668\n"
     ]
    }
   ],
   "source": [
    "from scipy.cluster.hierarchy import linkage, fcluster\n",
    "\n",
    "# Linkage criteria\n",
    "criteria = ['single', 'complete', 'weighted', 'ward']\n",
    "\n",
    "for criterion in criteria:\n",
    "    # Start timing\n",
    "    start_time = time.time()\n",
    "\n",
    "    # Hierarchical clustering\n",
    "    Z = linkage(X, method=criterion, metric='euclidean')\n",
    "    \n",
    "    # Cut the dendrogram to get 10 clusters\n",
    "    cluster_labels = fcluster(Z, t=10, criterion='maxclust')\n",
    "    \n",
    "    # End timing\n",
    "    end_time = time.time()\n",
    "    \n",
    "    # Calculate metrics\n",
    "    acc_value = acc(y, cluster_labels)\n",
    "    nmi_value = nmi(y, cluster_labels)\n",
    "    \n",
    "    # Calculate running time\n",
    "    running_time = end_time - start_time\n",
    "\n",
    "    # Print results\n",
    "    print(f\"\\nHierarchical Clustering ({criterion.capitalize()}):\")\n",
    "    print(f\"Acc: {acc_value}\")\n",
    "    print(f\"NMI: {nmi_value}\")\n",
    "    print(f\"Running Time: {running_time}\")\n"
   ]
  },
  {
   "cell_type": "code",
   "execution_count": null,
   "id": "0264ba4f",
   "metadata": {},
   "outputs": [],
   "source": []
  }
 ],
 "metadata": {
  "kernelspec": {
   "display_name": "Python 3 (ipykernel)",
   "language": "python",
   "name": "python3"
  },
  "language_info": {
   "codemirror_mode": {
    "name": "ipython",
    "version": 3
   },
   "file_extension": ".py",
   "mimetype": "text/x-python",
   "name": "python",
   "nbconvert_exporter": "python",
   "pygments_lexer": "ipython3",
   "version": "3.9.15"
  }
 },
 "nbformat": 4,
 "nbformat_minor": 5
}

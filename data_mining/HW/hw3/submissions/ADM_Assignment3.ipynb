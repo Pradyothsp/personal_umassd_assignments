{
 "cells": [
  {
   "cell_type": "markdown",
   "id": "ba2b8b2b",
   "metadata": {},
   "source": [
    "# Q4. (40 pts) Please finish the following text mining mini-project. Please submit your source code together with your PDF file. All text data are provided in the folder “Data”.\n"
   ]
  },
  {
   "cell_type": "code",
   "execution_count": 34,
   "id": "a5e1059d",
   "metadata": {
    "scrolled": true
   },
   "outputs": [],
   "source": [
    "import os\n",
    "\n",
    "folder_path = '/Users/varun/Downloads/Data'\n",
    "\n",
    "files = []\n",
    "\n",
    "for filename in os.listdir(folder_path):\n",
    "    if filename.endswith('.txt'):\n",
    "        file_path = os.path.join(folder_path, filename)\n",
    "        with open(file_path, 'r', encoding=\"ISO-8859-1\") as file:\n",
    "            contents = file.read()\n",
    "            #print(f'---{filename}---')\n",
    "            #print(contents)\n",
    "            files.append(contents)"
   ]
  },
  {
   "cell_type": "code",
   "execution_count": 35,
   "id": "75b30a84",
   "metadata": {},
   "outputs": [
    {
     "data": {
      "text/plain": [
       "'                THE HOLE THAT WAS TOO NARROW\\n\\n   Once upon a time. . . a stoat was so greedy that he would eat anything that\\ncame his way. But he was punished for his greed. He found some old stale eggs\\nin a barn and, as usual, gobbled the lot. However, he soon started to feel\\nagonizing pains in his tummy, his eyes grew dim and he broke out in a cold \\nsweat. For days, he lay between life and death, then the fever dropped. The\\nfirst time he dared climb a tree to rob a nest, thin and weak with his \\ntrousers dangling over an empty stomach, he became dizzy and fell. That is how\\nhe twisted his ankle. Sick with hunger, he limped about in search of food, but\\nthat made him feel even hungrier than before. Then good luck came his way.\\nAlthough wary of venturing too close to human habitations, he was so hungry he\\nwent up to a tavern on the outskirts of the village. The air was full of \\nlovely smells and the poor stoat felt his mouth watering as he pictured all \\nthe nice things inslde. An inviting smell coming from a crack in the wall \\nseemed to be stronger than the others. Thrusting his nose into the crack, he \\nwas greeted by a waft of delicious scents. The stoat frantically clawed at the\\ncrack with his paws and teeth, trying to widen it. Slowly the plaster between \\nthe blocks of rubble began to crumble, till all he had to do was move a stone.\\nShoving with all his might, the stoat made a hole. And then a really wonderful\\nsight met his gaze. He was inside the pantry, where hams, salamis, cheeses, \\nhoney, jam and nuts were stored. Overwhelmed by it all, the stoat could not \\nmake up his mind what to taste first. He jumped from one thing to another, \\nmunching all the time, till his tummy was full. Satisfied at last, he fell \\nasleep. Then he woke again, had another feast and went back to sleep. With all\\nthis food, his strength returned, and next day, the stoat was strong enough to\\nclimb up to the topmost shelves and select the tastiest delicacies. By this \\ntime, he was just having a nibble here and a nibble there. But he never \\nstopped eating: he went on and on and on. By now, he was very full indeed, as \\nhe chattered to himself: \"Salami for starters . . . no, the ham\\'s better! Some\\nsoft cheese and a spot of mature cheese as well . . . I think I\\'ll have a \\npickled sausage too . . .\"\\n   In only a few days, the stoat had become very fat and his trouser button \\nhad popped off over a bulging tummy. But of course, the stoat\\'s fantastic luck\\ncould not last for ever.  \\n   One afternoon, the stoat froze in mid-munch at the creak of a door. Heavy \\nfootsteps thumped down the stairs, and the stoat looked helplessly round. Fear\\nof discovery sent him hunting for a way to escape. He ran towards the hole in \\nthe wall through which he had come. But though his head and shoulders entered \\nthe hole, his tummy, which had grown much larger since the day he had come in,\\nslmply would not pass. The stoat was in a dangerous position: he was stuck! \\nTwo thick hands grabbed him by the tail.\\n   \"You horrid little robber! So you thought you\\'d get away, did you? I\\'ll \\nsoon deal with you!\" \\n   Strange though it may sound, the only thought in the greedy stoat\\'s head \\nwas a longing to be starving of hunger again . . .\\n'"
      ]
     },
     "execution_count": 35,
     "metadata": {},
     "output_type": "execute_result"
    }
   ],
   "source": [
    "files[0]"
   ]
  },
  {
   "cell_type": "code",
   "execution_count": null,
   "id": "fa94c547",
   "metadata": {},
   "outputs": [],
   "source": []
  },
  {
   "cell_type": "markdown",
   "id": "9a2a2ea0",
   "metadata": {},
   "source": [
    "# a. (10 pts) Preprocess all documents by considering the following typical steps:"
   ]
  },
  {
   "cell_type": "markdown",
   "id": "778ce8d6",
   "metadata": {},
   "source": [
    "## [1]. Convert to lowercase"
   ]
  },
  {
   "cell_type": "code",
   "execution_count": 36,
   "id": "56d6e3cd",
   "metadata": {},
   "outputs": [
    {
     "name": "stdout",
     "output_type": "stream",
     "text": [
      "Have converted all the words from uppercase to lowercase. Printing only first document                 the hole that was too narrow\n",
      "\n",
      "   once upon a time. . . a stoat was so greedy that he would eat anything that\n",
      "came his way. but he was punished for his greed. he found some old stale eggs\n",
      "in a barn and, as usual, gobbled the lot. however, he soon started to feel\n",
      "agonizing pains in his tummy, his eyes grew dim and he broke out in a cold \n",
      "sweat. for days, he lay between life and death, then the fever dropped. the\n",
      "first time he dared climb a tree to rob a nest, thin and weak with his \n",
      "trousers dangling over an empty stomach, he became dizzy and fell. that is how\n",
      "he twisted his ankle. sick with hunger, he limped about in search of food, but\n",
      "that made him feel even hungrier than before. then good luck came his way.\n",
      "although wary of venturing too close to human habitations, he was so hungry he\n",
      "went up to a tavern on the outskirts of the village. the air was full of \n",
      "lovely smells and the poor stoat felt his mouth watering as he pictured all \n",
      "the nice things inslde. an inviting smell coming from a crack in the wall \n",
      "seemed to be stronger than the others. thrusting his nose into the crack, he \n",
      "was greeted by a waft of delicious scents. the stoat frantically clawed at the\n",
      "crack with his paws and teeth, trying to widen it. slowly the plaster between \n",
      "the blocks of rubble began to crumble, till all he had to do was move a stone.\n",
      "shoving with all his might, the stoat made a hole. and then a really wonderful\n",
      "sight met his gaze. he was inside the pantry, where hams, salamis, cheeses, \n",
      "honey, jam and nuts were stored. overwhelmed by it all, the stoat could not \n",
      "make up his mind what to taste first. he jumped from one thing to another, \n",
      "munching all the time, till his tummy was full. satisfied at last, he fell \n",
      "asleep. then he woke again, had another feast and went back to sleep. with all\n",
      "this food, his strength returned, and next day, the stoat was strong enough to\n",
      "climb up to the topmost shelves and select the tastiest delicacies. by this \n",
      "time, he was just having a nibble here and a nibble there. but he never \n",
      "stopped eating: he went on and on and on. by now, he was very full indeed, as \n",
      "he chattered to himself: \"salami for starters . . . no, the ham's better! some\n",
      "soft cheese and a spot of mature cheese as well . . . i think i'll have a \n",
      "pickled sausage too . . .\"\n",
      "   in only a few days, the stoat had become very fat and his trouser button \n",
      "had popped off over a bulging tummy. but of course, the stoat's fantastic luck\n",
      "could not last for ever.  \n",
      "   one afternoon, the stoat froze in mid-munch at the creak of a door. heavy \n",
      "footsteps thumped down the stairs, and the stoat looked helplessly round. fear\n",
      "of discovery sent him hunting for a way to escape. he ran towards the hole in \n",
      "the wall through which he had come. but though his head and shoulders entered \n",
      "the hole, his tummy, which had grown much larger since the day he had come in,\n",
      "slmply would not pass. the stoat was in a dangerous position: he was stuck! \n",
      "two thick hands grabbed him by the tail.\n",
      "   \"you horrid little robber! so you thought you'd get away, did you? i'll \n",
      "soon deal with you!\" \n",
      "   strange though it may sound, the only thought in the greedy stoat's head \n",
      "was a longing to be starving of hunger again . . .\n",
      "\n"
     ]
    }
   ],
   "source": [
    "for i in range(len(files)):\n",
    "    files[i] = files[i].lower()\n",
    "    \n",
    "print('Have converted all the words from uppercase to lowercase. Printing only first document', files[0])"
   ]
  },
  {
   "cell_type": "code",
   "execution_count": null,
   "id": "ee22c45f",
   "metadata": {},
   "outputs": [],
   "source": []
  },
  {
   "cell_type": "markdown",
   "id": "00a6c967",
   "metadata": {},
   "source": [
    "## [2]. Remove stop words"
   ]
  },
  {
   "cell_type": "code",
   "execution_count": 37,
   "id": "7f8b7732",
   "metadata": {},
   "outputs": [],
   "source": [
    "import nltk\n",
    "from nltk.corpus import stopwords\n",
    "\n",
    "# Download the stop words list (only need to do this once)\n",
    "#nltk.download('stopwords')\n"
   ]
  },
  {
   "cell_type": "code",
   "execution_count": 38,
   "id": "0a037f39",
   "metadata": {},
   "outputs": [
    {
     "name": "stdout",
     "output_type": "stream",
     "text": [
      "Total number of words of first document before removing stopwords 614\n",
      "Total number of words of first document after removing stopwords 324\n",
      "\n",
      "\n",
      "hole narrow upon time. . . stoat greedy would eat anything came way. punished greed. found old stale eggs barn and, usual, gobbled lot. however, soon started feel agonizing pains tummy, eyes grew dim broke cold sweat. days, lay life death, fever dropped. first time dared climb tree rob nest, thin weak trousers dangling empty stomach, became dizzy fell. twisted ankle. sick hunger, limped search food, made feel even hungrier before. good luck came way. although wary venturing close human habitations, hungry went tavern outskirts village. air full lovely smells poor stoat felt mouth watering pictured nice things inslde. inviting smell coming crack wall seemed stronger others. thrusting nose crack, greeted waft delicious scents. stoat frantically clawed crack paws teeth, trying widen it. slowly plaster blocks rubble began crumble, till move stone. shoving might, stoat made hole. really wonderful sight met gaze. inside pantry, hams, salamis, cheeses, honey, jam nuts stored. overwhelmed all, stoat could make mind taste first. jumped one thing another, munching time, till tummy full. satisfied last, fell asleep. woke again, another feast went back sleep. food, strength returned, next day, stoat strong enough climb topmost shelves select tastiest delicacies. time, nibble nibble there. never stopped eating: went on. now, full indeed, chattered himself: \"salami starters . . . no, ham's better! soft cheese spot mature cheese well . . . think i'll pickled sausage . . .\" days, stoat become fat trouser button popped bulging tummy. course, stoat's fantastic luck could last ever. one afternoon, stoat froze mid-munch creak door. heavy footsteps thumped stairs, stoat looked helplessly round. fear discovery sent hunting way escape. ran towards hole wall come. though head shoulders entered hole, tummy, grown much larger since day come in, slmply would pass. stoat dangerous position: stuck! two thick hands grabbed tail. \"you horrid little robber! thought get away, you? i'll soon deal you!\" strange though may sound, thought greedy stoat's head longing starving hunger . . .\n"
     ]
    }
   ],
   "source": [
    "# Load the stop words list\n",
    "stop_words = set(stopwords.words('english'))\n",
    "\n",
    "print(\"Total number of words of first document before removing stopwords\",len(files[0].split()))\n",
    "\n",
    "for i in range(1):\n",
    "    \n",
    "    words = files[i].split()\n",
    "    \n",
    "    filtered_words = [word for word in words if word.lower() not in stop_words]\n",
    "    \n",
    "    files[i]= ' '.join(filtered_words)\n",
    "\n",
    "print(\"Total number of words of first document after removing stopwords\",len(files[0].split()))\n",
    "print('\\n')\n",
    "print(files[0])\n"
   ]
  },
  {
   "cell_type": "code",
   "execution_count": null,
   "id": "4d58daf6",
   "metadata": {},
   "outputs": [],
   "source": []
  },
  {
   "cell_type": "markdown",
   "id": "ce753c24",
   "metadata": {},
   "source": [
    "## [3]. Remove Punctuation"
   ]
  },
  {
   "cell_type": "code",
   "execution_count": 39,
   "id": "5172d804",
   "metadata": {},
   "outputs": [
    {
     "name": "stdout",
     "output_type": "stream",
     "text": [
      "Removed all the punctuations:\n",
      " hole narrow upon time   stoat greedy would eat anything came way punished greed found old stale eggs barn and usual gobbled lot however soon started feel agonizing pains tummy eyes grew dim broke cold sweat days lay life death fever dropped first time dared climb tree rob nest thin weak trousers dangling empty stomach became dizzy fell twisted ankle sick hunger limped search food made feel even hungrier before good luck came way although wary venturing close human habitations hungry went tavern outskirts village air full lovely smells poor stoat felt mouth watering pictured nice things inslde inviting smell coming crack wall seemed stronger others thrusting nose crack greeted waft delicious scents stoat frantically clawed crack paws teeth trying widen it slowly plaster blocks rubble began crumble till move stone shoving might stoat made hole really wonderful sight met gaze inside pantry hams salamis cheeses honey jam nuts stored overwhelmed all stoat could make mind taste first jumped one thing another munching time till tummy full satisfied last fell asleep woke again another feast went back sleep food strength returned next day stoat strong enough climb topmost shelves select tastiest delicacies time nibble nibble there never stopped eating went on now full indeed chattered himself salami starters    no hams better soft cheese spot mature cheese well    think ill pickled sausage    days stoat become fat trouser button popped bulging tummy course stoats fantastic luck could last ever one afternoon stoat froze midmunch creak door heavy footsteps thumped stairs stoat looked helplessly round fear discovery sent hunting way escape ran towards hole wall come though head shoulders entered hole tummy grown much larger since day come in slmply would pass stoat dangerous position stuck two thick hands grabbed tail you horrid little robber thought get away you ill soon deal you strange though may sound thought greedy stoats head longing starving hunger   \n"
     ]
    }
   ],
   "source": [
    "import string\n",
    "\n",
    "for i in range(len(files)):\n",
    "    \n",
    "\n",
    "# Define a translation table to remove punctuation\n",
    "    translator = str.maketrans('', '', string.punctuation)\n",
    "\n",
    "# Use the translate method to remove punctuation\n",
    "    files[i] = files[i].translate(translator)\n",
    "\n",
    "# Print the result\n",
    "\n",
    "print(\"Removed all the punctuations:\\n\",files[0])"
   ]
  },
  {
   "cell_type": "code",
   "execution_count": null,
   "id": "806324dc",
   "metadata": {},
   "outputs": [],
   "source": []
  },
  {
   "cell_type": "markdown",
   "id": "9e038202",
   "metadata": {},
   "source": [
    "## [4]. Single Characters"
   ]
  },
  {
   "cell_type": "code",
   "execution_count": 40,
   "id": "4a3f80de",
   "metadata": {},
   "outputs": [
    {
     "name": "stdout",
     "output_type": "stream",
     "text": [
      "Removed all the single characters:\n",
      " hole narrow upon time   stoat greedy would eat anything came way punished greed found old stale eggs barn and usual gobbled lot however soon started feel agonizing pains tummy eyes grew dim broke cold sweat days lay life death fever dropped first time dared climb tree rob nest thin weak trousers dangling empty stomach became dizzy fell twisted ankle sick hunger limped search food made feel even hungrier before good luck came way although wary venturing close human habitations hungry went tavern outskirts village air full lovely smells poor stoat felt mouth watering pictured nice things inslde inviting smell coming crack wall seemed stronger others thrusting nose crack greeted waft delicious scents stoat frantically clawed crack paws teeth trying widen it slowly plaster blocks rubble began crumble till move stone shoving might stoat made hole really wonderful sight met gaze inside pantry hams salamis cheeses honey jam nuts stored overwhelmed all stoat could make mind taste first jumped one thing another munching time till tummy full satisfied last fell asleep woke again another feast went back sleep food strength returned next day stoat strong enough climb topmost shelves select tastiest delicacies time nibble nibble there never stopped eating went on now full indeed chattered himself salami starters    no hams better soft cheese spot mature cheese well    think ill pickled sausage    days stoat become fat trouser button popped bulging tummy course stoats fantastic luck could last ever one afternoon stoat froze midmunch creak door heavy footsteps thumped stairs stoat looked helplessly round fear discovery sent hunting way escape ran towards hole wall come though head shoulders entered hole tummy grown much larger since day come in slmply would pass stoat dangerous position stuck two thick hands grabbed tail you horrid little robber thought get away you ill soon deal you strange though may sound thought greedy stoats head longing starving hunger   \n"
     ]
    }
   ],
   "source": [
    "import re\n",
    "\n",
    "for i in range(len(files)):\n",
    "\n",
    "    regex = r'\\b\\w\\b'\n",
    "\n",
    "    files[i] = re.sub(regex, \"\", files[i])\n",
    "\n",
    "# Print the processed document\n",
    "print(\"Removed all the single characters:\\n\",files[0])"
   ]
  },
  {
   "cell_type": "code",
   "execution_count": null,
   "id": "8e97e08e",
   "metadata": {},
   "outputs": [],
   "source": []
  },
  {
   "cell_type": "markdown",
   "id": "26d8ee58",
   "metadata": {},
   "source": [
    "## [5]. Stemming and Lemmatization, e.g., change “playing” and “played” to play"
   ]
  },
  {
   "cell_type": "code",
   "execution_count": 41,
   "id": "8beb3505",
   "metadata": {},
   "outputs": [],
   "source": [
    "import nltk\n",
    "from nltk.stem import PorterStemmer, WordNetLemmatizer\n",
    "from nltk.tokenize import word_tokenize\n",
    "#nltk.download('punkt')\n",
    "#nltk.download('wordnet')"
   ]
  },
  {
   "cell_type": "code",
   "execution_count": 42,
   "id": "95e27927",
   "metadata": {},
   "outputs": [
    {
     "name": "stdout",
     "output_type": "stream",
     "text": [
      "Stemmed sentence:\n",
      "\n",
      " the weep princess onc upon time greedi emperor forc hi subject to pay heavi tax not onli the poor were squeez but the nobl in thi immens empir were highli tax too at last tire of be crush by tax the nobl held protest meet when the emperor heard about thi he took fright for he fear rebellion so he sent out thi proclam to put an end to their complaint the nobleman that can make my daughter sarah smile again for she mourn the loss of her fianc will never pay tax again thi caus an uproar at the protest meet most of the princ decid there wa no need now to complain for each wa quit sure he would succeed where other might fail so off they went to get readi to tri and make sarah smile but some of the nobl warn their fellow that with hi word the emperor wa not realli abolish ani tax at all from that day on long process of nobl knight troop from all over the empir to the palac to tri and consol the weep princess the crowd cheer them as they pass but when they return with bow head the same crowd boo and whistl at their failur the day went by and the list of defeat knight grew longer indian circassian arab and turk from all over the provinc came bold young men bounc with confid and hope but the minut the princess set eye on them she just wept and wept the emperor wa delight for each failur meant anoth taxpay even the common folk seem content to see that the rich too did not alway get what they want the onli unhappi person among them wa sarah who went on weep one day mongol princ seem to be on the point of win smile he thrum hi balalaika for hour play first sad tune then more cheer one till he finish by play merri jig the princess sat for age stare at him eye and the onlook thought she wa about to smile instead she burst into flood of tear to everyon disappoint kurdish chief fame for hi humour who had alreadi kept the court in fit of laughter tri to steal smile from sarah with hi witti remark but the princesss dark eye fill with tear noblemen came from as far away as persia but in vain the onli person who had not yet appear wa omar the chief of the tiniest farthest away provinc bright intellig young man he had cleverli got the better of certain greedi ambiti rel that tri to take away hi power when he succeed hi uncl as chief the emperor messeng had taken long time to reach thi remot realm and though omar set out at onc on hear the news he rode for mani day on hi fine black hors then one even he reach the palac when the tire and dusti travel explain to the stabl boy whi he had come they laugh in scorn but they had order to obey so they told him to enter it late they said and you wont see the princess till tomorrow the emperor other daughter howev were soon told of the new arriv he the most handsom of them all exclaim one of the servant so marika the emperor youngest and prettiest daughter with her sister peek through window at the sleep omar next morn the emperor order the newcom to be led befor sarah the court crowd round to watch unlik all the other suitor omar did noth at all to amus the princess he stare at sarah without say word and she stare back with an empti look on her face the two young peopl stare silent at each other then omar went back to the emperor and said sire give me your sceptr and will solv the problem of sarah surpris at such an odd request the emperor follow omar into sarah room the other princess cluster round smile and admir the handsom young man with deep bow to sarah omar straighten up and dealt her blow on the head with the sceptr scream fill the air the emperor threw up hl arm in rage and hi daughter fled in all direct the guard drew their sword then the whole room stop in amaz for out of sarah head which had been chop off by the blow roll broken spring and piec of metal the princess that never smile wa doll perfect dolll and nobodi had ever been awar of it except omar the onli princess that couldnt stop laugh wa marika the emperor glare at her be quiet he order but he too saw the funni side of it for the crafti emperor had been make use of sarah the doll as way of guarante himself steadi flow of tax from all hi subject and now man more cun than himself had expos hi trick the emperor had sudden thought he would rid himself of the cheeki marika and gain an astut soninlaw abl to help him hold onto hi kingdom you should be put to death for thi insol he said but im go to spare your life if you marri my youngest daughter of cours you wont need to pay tax smile at happi marika omar nod silent down in the depth of hi mind he wa think one day dear fatherinlaw ill be sit on your imperi throne and he wa few year later\n",
      "\n",
      "Lemmatized sentence:\n",
      "\n",
      " the weeping princess once upon time greedy emperor forced his subject to pay heavy tax not only the poor were squeezed but the noble in this immense empire were highly taxed too at last tired of being crushed by tax the noble held protest meeting when the emperor heard about this he took fright for he feared rebellion so he sent out this proclamation to put an end to their complaint the nobleman that can make my daughter sarah smile again for shes mourning the loss of her fiance will never pay tax again this caused an uproar at the protest meeting most of the prince decided there wa no need now to complain for each wa quite sure he would succeed where others might fail so off they went to get ready to try and make sarah smile but some of the noble warned their fellow that with his word the emperor wa not really abolishing any tax at all from that day on long procession of noble knight trooped from all over the empire to the palace to try and console the weeping princess the crowd cheered them a they passed but when they returned with bowed head the same crowd booed and whistled at their failure the day went by and the list of defeated knight grew longer indian circassian arab and turk from all over the province came bold young men bouncing with confidence and hope but the minute the princess set eye on them she just wept and wept the emperor wa delighted for each failure meant another taxpayer even the common folk seemed contented to see that the rich too did not always get what they wanted the only unhappy person among them wa sarah who went on weeping one day mongol prince seemed to be on the point of winning smile he thrummed his balalaika for hour playing first sad tune then more cheerful one till he finished by playing merry jig the princess sat for age staring at him eyed and the onlooker thought she wa about to smile instead she burst into flood of tear to everyones disappointment kurdish chief famed for his humour who had already kept the court in fit of laughter tried to steal smile from sarah with his witty remark but the princess dark eye filled with tear nobleman came from a far away a persia but in vain the only person who had not yet appeared wa omar the chief of the tiniest farthest away province bright intelligent young man he had cleverly got the better of certain greedy ambitious relative that tried to take away his power when he succeeded his uncle a chief the emperor messenger had taken long time to reach this remote realm and though omar set out at once on hearing the news he rode for many day on his fine black horse then one evening he reached the palace when the tired and dusty traveller explained to the stable boy why he had come they laughed in scorn but they had order to obey so they told him to enter it late they said and you wont see the princess till tomorrow the emperor other daughter however were soon told of the new arrival he the most handsome of them all exclaimed one of the servant so marika the emperor youngest and prettiest daughter with her sister peeked through window at the sleeping omar next morning the emperor ordered the newcomer to be led before sarah the court crowded round to watch unlike all the other suitor omar did nothing at all to amuse the princess he stared at sarah without saying word and she stared back with an empty look on her face the two young people stared silently at each other then omar went back to the emperor and said sire give me your sceptre and will solve the problem of sarah surprised at such an odd request the emperor followed omar into sarah room the other princess clustered round smiling and admiring the handsome young man with deep bow to sarah omar straightened up and dealt her blow on the head with the sceptre scream filled the air the emperor threw up hl arm in rage and his daughter fled in all direction the guard drew their sword then the whole room stopped in amazement for out of sarah head which had been chopped off by the blow rolled broken spring and piece of metal the princess that never smiled wa doll perfect dolll and nobody had ever been aware of it except omar the only princess that couldnt stop laughing wa marika the emperor glared at her be quiet he ordered but he too saw the funny side of it for the crafty emperor had been making use of sarah the doll a way of guaranteeing himself steady flow of tax from all his subject and now man more cunning than himself had exposed his trick the emperor had sudden thought he would rid himself of the cheeky marika and gain an astute soninlaw able to help him hold onto his kingdom you should be put to death for this insolence he said but im going to spare your life if you marry my youngest daughter of course you wont need to pay tax smiling at happy marika omar nodded silently down in the depth of his mind he wa thinking one day dear fatherinlaw ill be sitting on your imperial throne and he wa few year later\n"
     ]
    }
   ],
   "source": [
    "# Initialize a Porter stemmer and lemmatizer\n",
    "stemmer = PorterStemmer()\n",
    "lemmatizer = WordNetLemmatizer()\n",
    "\n",
    "for i in range(len(files)):\n",
    "\n",
    "# Tokenize the sentence into individual words\n",
    "    words = word_tokenize(files[i])\n",
    "\n",
    "    stemmed_words = [stemmer.stem(word) for word in words]\n",
    "\n",
    "    lemmatized_words = [lemmatizer.lemmatize(word) for word in words]\n",
    "    \n",
    "#It is advisable to use lemmatization instead of stemming as the words are easy to understand\n",
    "    files[i] = \" \".join(lemmatized_words)\n",
    "\n",
    "print(\"Stemmed sentence:\\n\\n\", \" \".join(stemmed_words))\n",
    "print(\"\\nLemmatized sentence:\\n\\n\", \" \".join(lemmatized_words))"
   ]
  },
  {
   "cell_type": "code",
   "execution_count": null,
   "id": "136e127b",
   "metadata": {},
   "outputs": [],
   "source": []
  },
  {
   "cell_type": "markdown",
   "id": "16d438ff",
   "metadata": {},
   "source": [
    "## [6]. Converting Numbers, e.g., “1000” to one thousand"
   ]
  },
  {
   "cell_type": "code",
   "execution_count": 46,
   "id": "94591c18",
   "metadata": {},
   "outputs": [],
   "source": [
    "import re\n",
    "from num2words import num2words\n",
    "\n",
    "for i in range(len(files)):\n",
    "    \n",
    "    words = files[i].split()\n",
    "    for i in range(len(words)):\n",
    "        if words[i].isnumeric() and len(words[i]) <= 4:\n",
    "            words[i] = num2words(int(words[i]))\n",
    "    files[j]=' '.join(words)"
   ]
  },
  {
   "cell_type": "code",
   "execution_count": 54,
   "id": "12c20b6b",
   "metadata": {},
   "outputs": [
    {
     "name": "stdout",
     "output_type": "stream",
     "text": [
      "manly wager by lucillus dedicated to testosterone there wa pair of warrior who thought they were so cool bbbain and magnus were their name the king and prince of fool now a to which is greater come listen to my tale and will tell you of the time these mighty warrior failed late one night bet they made very manly boast so many maiden each could bed but who could get the most and so they set out for to prove who wa the biggest prick and just how stupid they could act and get away with it bain and magnus wanted to show who wa the best and each man wa determined to win this manly test by fair mean and by foul many maiden they would lay then prove it all by boasting in very manly way bain went into town now and found likely inn he wa sure the maid would swoon a soon a they saw him he preened and pranced and pampered to show his better side and practiced his sincerity to hide the fact he lied and sure enough the spell he wove had all the lady there dying for the chance to run their finger through his hair please lady take number pretty bain he then did say for will serve you all upstairs until the break of day so bain think he stud now and many maid agree he care not for discretion in fact he charged fee all the lady they were waiting to take their turn in bed then boast to one another im his only love they said but magnus think he clever of that he is so sure he followed bain to see how he would all the lady lure he saw lady that he knew whose jealous husband cruel would kill to keep his lovely wife a miser keep jewel so straight away he went to tell this jealous hulking man of just what bain wa going to do and his wife part in the plan and so he thought he could be sure to win their manly bet this surely wa a clever a any man could get now magnus he is lazy a if you didnt know he thought he had it made now and wished to see the show so he went into the tavern and waited for to see very jealous husband and his victim soontobe upstairs bain wa grooming he made the lady wait while magnus tried his best to hide and leave bain to his fate soon the jealous husband had gathered to his side a many friend a he could find to help him take his bride but magnus wa impatient and quite horny now a well so he slipped out through the back to stable by their smell he wa sure that he could ream some very lonely horse then be back inside in time to see bain thrashed by manly force but even for old magnus thing sometimes work out well for bain chose for his first lay the faithless wife from hell she could not wait for foreplay but jumped upon his steed and started quick to ride him to service her deep need know now what youre thinking how typical it seems for bain to end up with maid while magnus horse ream but justice it soon entered into this merry tune the husband and his many friend had come and none too soon up the stair they charged a one and burst into the room then looked bain and saw right there his own impending doom and naked a jaybird he took his only chance went leaping out the window without even his pant now bain had not yet finished his very manly chore his manhood still wa rigid and hard now to ignore but his luck did not desert him for below him now he saw thatched roof coming quickly made of soft and yielding straw and magnus in the stable had found horse to pork wa pounding deep into her tail and leaned into his work when crashing through the rooftop came bain with his stiff spear and found poor magnus most exposed and fell into his rear mighty squeal of pain and glee wa heard for mile around and far away some pig got hard just thinking of that sound and so we have sandwich of two men and horse it hard now to imagine how thing could turn out worse and bain who wa stuck deep now wa trying to escape but magnus had recovered and started screaming rape out came the jealous husband who could not believe his eye followed closely by the lady who laughed until they cried now if man were able to die of shame alone then surely now our hero would be deader than stone but ala in their position an embarrassment from hell they could not defend themselves and their fate now will tell they were taken to the wood and then tied upside down their clothes were burned before their eye and all went back to town you think the story over but there one more thing to see who had won the wager and the greatest prick would be for a they were ahanging an argument ensued bain said im the winner and still the coolest dude but magnus he retorted at least finished mine so shut up bain you loser hate it when you whine shindar drinking song last night went out drinking and met lively crew so we wandered off together to hoist an ale or two we came upon little place where the lady were most fair and so we all decided that we should tarry there oh were bold and handsome bastard til the morning anyway when the rising sun will smite our eye and make u curse the day the lass they all love u for a long a we can pay but when our coin run out they will send u on our way so well hoist another ale and well sing another song and well crawl from bar to bar until the coming of the dawn behind the bar with golden hair there stood beautious lass with ruby lip and eye of blue and this exquisite nose well maddog wa foolish lad whose mood did not soon pas he lept across that little bar and tried to pinch her nose chorus we grabbed young maddog by the cloak and everything wa fine until the lass lad showed up with friend or nine will not bore you with the tale suffice to say we had them beat and then the city watch showed up to make the night complete chorus now fezzik he wa not to bright hed smashed guardsman head so the magistrate said take him out and hang him til he dead the lass that maddog tried to pinch appealed to the bench and this morning ive been told he got married to the wench chorus his honor looked me in the eye and said what should do so looked right back at him said let hoist an ale or two so off we wandered into town with guard or two hed brung along the way there wa brawl and come the morning he wa hung final chorus jester of the shindar one thousand, nine hundred and ninety-two\n"
     ]
    }
   ],
   "source": [
    "print(files[6])"
   ]
  },
  {
   "cell_type": "markdown",
   "id": "ca358e9e",
   "metadata": {},
   "source": [
    "## b. Extract TF-IDF features for all documents. You may consider each unique word as a token and compute the frequency of each word. This will give you a TF-IDF vector for each document."
   ]
  },
  {
   "cell_type": "code",
   "execution_count": 53,
   "id": "1382d4f5",
   "metadata": {},
   "outputs": [
    {
     "name": "stdout",
     "output_type": "stream",
     "text": [
      "  (0, 33756)\t0.045205679582165655\n",
      "  (0, 21081)\t0.04820335940497572\n",
      "  (0, 33087)\t0.020599996570631954\n",
      "  (0, 22058)\t0.02166859170714967\n",
      "  (0, 34102)\t0.023226322927822625\n",
      "  (0, 9205)\t0.02735671472337309\n",
      "  (0, 3301)\t0.015371042255792717\n",
      "  (0, 15017)\t0.015371042255792717\n",
      "  (0, 35852)\t0.03207102181015885\n",
      "  (0, 30074)\t0.04612021880206683\n",
      "  (0, 20912)\t0.01563221112891138\n",
      "  (0, 17361)\t0.0507529174506282\n",
      "  (0, 40463)\t0.037284342086654064\n",
      "  (0, 35072)\t0.031537748211055795\n",
      "  (0, 15501)\t0.030521466193142607\n",
      "  (0, 16261)\t0.017570970663093346\n",
      "  (0, 35752)\t0.028935170855799774\n",
      "  (0, 37148)\t0.015765068913288324\n",
      "  (0, 34259)\t0.02958824235629397\n",
      "  (0, 27203)\t0.027923391553498395\n",
      "  (0, 9025)\t0.02981450006103463\n",
      "  (0, 25862)\t0.025970089174123766\n",
      "  (0, 32551)\t0.06659221874891681\n",
      "  (0, 18126)\t0.011609929240013174\n",
      "  (0, 32192)\t0.020397767561849703\n",
      "  :\t:\n",
      "  (248, 36077)\t0.03187618866204422\n",
      "  (248, 19120)\t0.019339098897722434\n",
      "  (248, 25177)\t0.012382952109133623\n",
      "  (248, 31209)\t0.023871022595308544\n",
      "  (248, 27122)\t0.012584899297691046\n",
      "  (248, 1806)\t0.011403351007445826\n",
      "  (248, 39385)\t0.03415283034264758\n",
      "  (248, 3934)\t0.008502347199707527\n",
      "  (248, 12334)\t0.009062968132857677\n",
      "  (248, 11768)\t0.013386307495688107\n",
      "  (248, 13504)\t0.00890851913736004\n",
      "  (248, 9221)\t0.012936581884507775\n",
      "  (248, 20694)\t0.009678456343376695\n",
      "  (248, 9147)\t0.0399380349050666\n",
      "  (248, 15714)\t0.014215594902265326\n",
      "  (248, 12779)\t0.01828327533210323\n",
      "  (248, 33026)\t0.010757299069351588\n",
      "  (248, 17469)\t0.011403351007445826\n",
      "  (248, 2215)\t0.14533021758911963\n",
      "  (248, 39170)\t0.008720640089723852\n",
      "  (248, 5745)\t0.017441280179447703\n",
      "  (248, 40122)\t0.016107709516126542\n",
      "  (248, 15673)\t0.047999253549353235\n",
      "  (248, 36089)\t0.013636482508853246\n",
      "  (248, 38114)\t0.00926151711360725\n"
     ]
    }
   ],
   "source": [
    "#As the documents have already been pre-processed we will be utilizing it foe TF-IDF\n",
    "\n",
    "from sklearn.feature_extraction.text import TfidfVectorizer\n",
    "\n",
    "vectorizer = TfidfVectorizer()\n",
    "\n",
    "# Compute TF-IDF vectors for the query sentences\n",
    "query_matrix = vectorizer.fit_transform(files)\n",
    "print(query_matrix)"
   ]
  },
  {
   "cell_type": "code",
   "execution_count": null,
   "id": "be8c7b8e",
   "metadata": {},
   "outputs": [],
   "source": []
  },
  {
   "cell_type": "markdown",
   "id": "e7cb73dd",
   "metadata": {},
   "source": [
    "# c. (10 pts)  Compute the pairwise cosine similarities of all documents, save in a matrix (.txt) and submit together with your PDF solution."
   ]
  },
  {
   "cell_type": "code",
   "execution_count": 61,
   "id": "26d7021e",
   "metadata": {},
   "outputs": [],
   "source": [
    "from sklearn.feature_extraction.text import TfidfVectorizer\n",
    "from sklearn.metrics.pairwise import cosine_similarity\n",
    "import numpy as np\n",
    "\n",
    "vectorizer = TfidfVectorizer()\n",
    "\n",
    "# create a TfidfVectorizer object and then doing fit and transform\n",
    "tfidf_features = vectorizer.fit_transform(files)\n",
    "\n",
    "# compute the pairwise cosine similarities\n",
    "cos_sim_matrix = cosine_similarity(tfidf_features)\n",
    "\n",
    "#cosine similarity matrix to a text file\n",
    "np.savetxt('/Users/varun/Desktop/cosine_similarity_matrix.txt', cos_sim_matrix)"
   ]
  },
  {
   "cell_type": "code",
   "execution_count": null,
   "id": "69f2690c",
   "metadata": {},
   "outputs": [],
   "source": []
  },
  {
   "cell_type": "markdown",
   "id": "a8e01a21",
   "metadata": {},
   "source": [
    "## d. (10 pts) Among these documents, find the top-10 retrieval results (using file names) for the following two sentences. The retrieval can be done by computing the cosine similarity between the “query” and “reference” documents in the data.\n",
    "## [1]. Once upon a time . . . there were three little pigs, who left their mummy and daddy to see the world.\n",
    "## [2]. There once lived a poor tailor, who had a son called Aladdin, a careless, idle boy who would do nothing but play all day long in the streets with little idle boys like himself."
   ]
  },
  {
   "cell_type": "code",
   "execution_count": 62,
   "id": "d9f46b4e",
   "metadata": {},
   "outputs": [
    {
     "data": {
      "text/plain": [
       "array([[1.26677149e-02, 3.19602241e-02, 4.57985593e-03, 1.02859282e-02,\n",
       "        2.12059853e-02, 3.11345465e-02, 2.09728042e-02, 9.81456350e-03,\n",
       "        2.53749508e-02, 1.00000000e+00, 1.36992474e-02, 9.89078235e-03,\n",
       "        9.68158126e-03, 7.38458016e-03, 2.28880421e-02, 3.51488864e-02,\n",
       "        2.21686902e-02, 8.03429943e-03, 1.42888360e-02, 1.71328926e-02,\n",
       "        1.98687507e-02, 1.98657732e-02, 6.53157521e-03, 6.90207574e-02,\n",
       "        1.14257465e-02, 1.19057578e-02, 1.89212388e-02, 1.00959342e-02,\n",
       "        1.05827870e-02, 2.12232669e-02, 8.81376477e-03, 6.73455754e-03,\n",
       "        2.46522097e-02, 1.58601954e-02, 7.24313862e-03, 9.82308775e-03,\n",
       "        4.68350836e-03, 1.36972458e-02, 2.11715485e-02, 8.88118446e-03,\n",
       "        7.32389438e-03, 3.91253712e-03, 1.16419560e-02, 1.33077825e-02,\n",
       "        1.43560286e-02, 1.86218632e-02, 1.75765444e-02, 1.06675681e-02,\n",
       "        9.61404718e-03, 1.29180607e-02, 1.83514693e-02, 3.28371346e-02,\n",
       "        1.41578410e-02, 7.88061648e-03, 2.61310345e-02, 6.58773266e-03,\n",
       "        1.78277454e-02, 1.04340240e-02, 7.98311438e-03, 1.07304004e-02,\n",
       "        1.01198611e-02, 2.00016595e-02, 8.44635502e-03, 8.50946565e-03,\n",
       "        1.16365814e-02, 1.77116504e-02, 6.01180849e-03, 1.05086173e-02,\n",
       "        2.24018648e-02, 1.43482232e-02, 1.14865484e-02, 9.75285461e-03,\n",
       "        9.02929736e-03, 1.25868513e-02, 6.33663612e-03, 1.90960763e-02,\n",
       "        1.08975361e-02, 6.40835497e-03, 5.14736115e-03, 8.06609882e-03,\n",
       "        2.69690996e-02, 1.30465040e-02, 6.26302025e-03, 5.67414723e-03,\n",
       "        2.99723800e-02, 1.74505900e-02, 1.05936682e-02, 2.17010501e-02,\n",
       "        4.46839695e-03, 0.00000000e+00, 2.04106911e-02, 1.80405107e-02,\n",
       "        5.72238983e-03, 1.06978614e-02, 1.41726752e-02, 2.02337640e-02,\n",
       "        4.11368631e-03, 1.27980862e-02, 1.21703206e-02, 8.94801993e-03,\n",
       "        7.54817666e-03, 2.91339331e-02, 2.24590096e-02, 2.20369313e-02,\n",
       "        2.02348506e-02, 5.34062008e-03, 1.37622742e-02, 1.97967839e-02,\n",
       "        4.26653916e-03, 1.66179571e-02, 1.67826583e-02, 5.29317042e-03,\n",
       "        1.05290639e-02, 2.50043494e-03, 1.15872147e-02, 1.42881173e-02,\n",
       "        2.81727327e-02, 5.05996026e-03, 6.82814529e-03, 1.50221777e-02,\n",
       "        1.53412146e-02, 1.57622008e-02, 3.46162959e-03, 1.68577778e-02,\n",
       "        1.62566327e-02, 1.58111228e-02, 1.45616392e-02, 1.98796961e-02,\n",
       "        3.53781746e-02, 6.26118965e-03, 6.60035695e-03, 2.11258976e-02,\n",
       "        1.26084787e-02, 4.68718314e-02, 6.36201252e-03, 1.48601043e-02,\n",
       "        4.68666904e-03, 1.73543839e-02, 3.81136456e-02, 1.65083960e-02,\n",
       "        1.04914101e-02, 3.43568205e-02, 3.24450776e-01, 1.24701140e-02,\n",
       "        2.43412127e-02, 1.44676631e-02, 1.35890304e-02, 3.46722682e-02,\n",
       "        5.62854849e-03, 1.10849253e-02, 2.03256553e-02, 0.00000000e+00,\n",
       "        7.71533624e-03, 1.02976182e-02, 0.00000000e+00, 1.01884717e-02,\n",
       "        2.50776688e-02, 1.41728254e-02, 1.09245723e-02, 2.63721044e-02,\n",
       "        1.39812076e-02, 1.59690707e-02, 2.44159995e-02, 2.00068242e-02,\n",
       "        1.86258452e-02, 0.00000000e+00, 4.03580388e-03, 1.15778996e-02,\n",
       "        6.04972724e-03, 8.50315990e-03, 1.57599389e-02, 1.06204731e-02,\n",
       "        7.49028539e-03, 2.47327691e-03, 9.53168919e-03, 1.26775379e-02,\n",
       "        2.72318707e-02, 1.66902212e-02, 9.39398683e-03, 2.32856805e-02,\n",
       "        2.04612315e-02, 2.05731938e-02, 1.30797766e-02, 9.94227885e-03,\n",
       "        2.87010998e-02, 1.52874459e-02, 2.64437277e-02, 1.97695202e-02,\n",
       "        1.85331747e-02, 1.86774429e-02, 6.98625828e-03, 2.43650061e-02,\n",
       "        1.22999636e-02, 6.96990228e-03, 1.00609295e-02, 3.32335125e-03,\n",
       "        4.11644934e-03, 7.67477129e-03, 1.97172586e-02, 2.39179738e-02,\n",
       "        1.57008549e-02, 1.54460413e-02, 2.62332772e-02, 2.88863942e-02,\n",
       "        1.87371199e-02, 9.88358592e-04, 2.74786531e-02, 1.23584247e-02,\n",
       "        2.73078183e-02, 4.80844860e-03, 7.20230336e-03, 1.01371102e-02,\n",
       "        2.38100425e-02, 4.60154047e-03, 1.26004367e-02, 1.60013034e-02,\n",
       "        1.59328969e-02, 2.45665848e-02, 1.60037953e-02, 1.32979248e-02,\n",
       "        7.21005878e-03, 1.32026834e-02, 2.85318562e-02, 1.53293739e-02,\n",
       "        3.76672090e-02, 3.62774668e-02, 5.94851117e-03, 1.91328029e-02,\n",
       "        2.46222913e-02, 1.19589187e-02, 5.31853734e-03, 1.20454631e-02,\n",
       "        1.64504717e-02, 1.68487206e-02, 1.16272088e-02, 2.40587848e-02,\n",
       "        2.53817989e-02, 5.89690672e-03, 2.42159654e-02, 1.82968948e-02,\n",
       "        1.65395334e-02, 1.67200623e-02, 5.27356144e-02, 4.11060519e-02,\n",
       "        2.94517517e-02, 4.40765438e-03, 8.81181687e-03, 1.32462500e-02,\n",
       "        6.26302025e-03],\n",
       "       [1.48430925e-02, 2.43433672e-02, 3.60352507e-03, 1.04090787e-02,\n",
       "        1.78178849e-02, 2.56628306e-02, 8.58092599e-03, 6.51177911e-03,\n",
       "        1.82267840e-02, 1.71328926e-02, 2.08041008e-02, 2.50910991e-02,\n",
       "        1.00596278e-02, 1.13559666e-02, 2.14362857e-02, 2.01937253e-02,\n",
       "        4.51304865e-03, 2.85374714e-02, 1.36936981e-02, 1.00000000e+00,\n",
       "        1.27093794e-02, 1.39033106e-02, 4.36296401e-03, 2.05096572e-02,\n",
       "        6.99951147e-03, 2.49409586e-02, 1.40385629e-02, 3.53227237e-03,\n",
       "        9.25743895e-03, 1.81570336e-02, 4.65476592e-03, 1.75840663e-02,\n",
       "        1.73205213e-02, 1.68000585e-02, 1.88016447e-02, 9.48822113e-03,\n",
       "        4.23655053e-03, 1.13730814e-02, 2.23529809e-02, 1.10282595e-02,\n",
       "        2.58158056e-02, 1.12445209e-02, 1.00309925e-02, 7.58185192e-03,\n",
       "        1.92597279e-02, 1.17482160e-02, 2.02463656e-02, 9.12760600e-03,\n",
       "        1.85436238e-02, 1.54831567e-02, 3.29103723e-02, 1.40513805e-02,\n",
       "        1.04043866e-02, 1.07427781e-02, 1.62030429e-02, 9.13026967e-03,\n",
       "        1.44100907e-02, 2.88878427e-03, 1.47146940e-02, 1.67300795e-02,\n",
       "        1.29344012e-02, 2.11176686e-02, 9.00746583e-03, 1.01189848e-02,\n",
       "        8.37679348e-03, 2.17082124e-02, 3.32512744e-03, 1.14199244e-02,\n",
       "        2.09155146e-02, 6.07953729e-03, 1.10612022e-02, 8.53286243e-03,\n",
       "        7.82472460e-03, 3.73190042e-02, 1.21783952e-02, 9.91795945e-03,\n",
       "        2.64369359e-02, 5.70416290e-03, 3.06596263e-03, 1.06031500e-02,\n",
       "        1.70402752e-02, 9.36101717e-03, 1.73658043e-02, 8.99517722e-03,\n",
       "        2.35237254e-02, 2.51918269e-02, 2.66919312e-02, 9.69774504e-03,\n",
       "        9.55777231e-03, 4.93198482e-03, 1.63497000e-02, 2.12213018e-02,\n",
       "        2.01928668e-02, 1.87234403e-02, 6.99621900e-03, 2.93413355e-03,\n",
       "        7.90705749e-03, 1.49103026e-02, 8.38937832e-03, 1.25844619e-03,\n",
       "        1.62528163e-02, 1.69663974e-02, 1.56372548e-02, 1.45027388e-02,\n",
       "        1.71335525e-02, 5.28735031e-03, 7.78423857e-03, 4.69837238e-03,\n",
       "        0.00000000e+00, 1.25384186e-02, 9.08583519e-03, 4.58398705e-03,\n",
       "        2.09736069e-02, 8.99295832e-03, 1.14090126e-02, 1.94007887e-02,\n",
       "        5.28350379e-03, 7.67998418e-03, 3.99163528e-03, 1.64277929e-02,\n",
       "        7.28808223e-03, 2.03651135e-02, 1.37321113e-02, 1.18722652e-02,\n",
       "        1.61897367e-02, 9.51115689e-03, 9.72528566e-03, 1.13164545e-02,\n",
       "        6.79721923e-02, 2.69901386e-01, 5.93261781e-03, 1.62830442e-02,\n",
       "        1.24470995e-02, 2.41848825e-02, 1.16994906e-02, 1.31507393e-02,\n",
       "        7.03399904e-03, 1.66484771e-02, 3.73192335e-02, 2.65516065e-02,\n",
       "        1.60286955e-02, 1.79241933e-02, 3.36876794e-02, 1.27175314e-02,\n",
       "        2.76417032e-02, 1.54406510e-02, 2.53840243e-01, 1.73477051e-02,\n",
       "        1.40416217e-02, 1.33149477e-02, 1.15733315e-02, 1.86329984e-02,\n",
       "        6.87293458e-03, 1.48849060e-02, 3.22780244e-02, 2.23961391e-03,\n",
       "        1.23875470e-02, 2.88966112e-02, 0.00000000e+00, 2.09828037e-02,\n",
       "        1.13062001e-02, 2.03210544e-02, 3.05133461e-02, 6.73985032e-03,\n",
       "        1.29449798e-02, 0.00000000e+00, 2.25370432e-03, 1.00798742e-02,\n",
       "        1.89926447e-02, 1.20029237e-02, 6.75867735e-03, 1.17998784e-02,\n",
       "        2.77715046e-03, 0.00000000e+00, 1.37728346e-02, 5.80463260e-03,\n",
       "        2.57266416e-02, 1.04605624e-02, 1.43109362e-02, 1.63838137e-02,\n",
       "        1.81833456e-02, 1.28467445e-02, 1.74658599e-02, 4.40324984e-03,\n",
       "        2.91970262e-02, 1.22835564e-02, 1.47209090e-02, 4.06242111e-03,\n",
       "        1.57575077e-02, 2.38177553e-02, 1.67792509e-02, 1.58726604e-02,\n",
       "        1.32296961e-02, 1.58012742e-02, 3.53997100e-02, 9.69784440e-03,\n",
       "        3.65710784e-03, 1.18384072e-02, 2.23756174e-02, 1.14117332e-02,\n",
       "        9.81927360e-03, 1.35116611e-02, 8.58362849e-03, 1.81757986e-02,\n",
       "        1.75036635e-02, 3.62003046e-03, 8.67357135e-03, 3.43757228e-03,\n",
       "        1.96514222e-02, 8.49187897e-03, 1.48991364e-02, 9.38463658e-03,\n",
       "        1.65990854e-02, 5.08384277e-03, 3.56903772e-02, 2.29720453e-02,\n",
       "        2.33509379e-02, 1.70627387e-02, 1.71912805e-02, 1.05898023e-02,\n",
       "        1.43778981e-02, 1.32394418e-02, 1.64494223e-02, 1.73226417e-02,\n",
       "        3.96520472e-02, 1.42274574e-02, 4.38812385e-03, 7.68333197e-03,\n",
       "        1.25495888e-02, 2.88747260e-02, 1.64562055e-02, 8.18735209e-03,\n",
       "        1.93854228e-02, 1.93665457e-02, 8.38458591e-03, 1.34416352e-02,\n",
       "        1.28932892e-02, 9.17420034e-03, 2.11635198e-02, 1.93635240e-02,\n",
       "        1.34045433e-02, 1.69676131e-02, 1.31519579e-02, 2.12926409e-02,\n",
       "        2.37892531e-02, 5.63551927e-03, 3.30264221e-02, 1.42089934e-02,\n",
       "        1.73658043e-02]])"
      ]
     },
     "execution_count": 62,
     "metadata": {},
     "output_type": "execute_result"
    }
   ],
   "source": [
    "from sklearn.metrics.pairwise import cosine_similarity\n",
    "from sklearn.feature_extraction.text import TfidfVectorizer\n",
    "\n",
    "\n",
    "translator = str.maketrans('', '', string.punctuation)\n",
    "stemmer = PorterStemmer()\n",
    "lemmatizer = WordNetLemmatizer()\n",
    "\n",
    "\n",
    "\n",
    "files1 = ['Once upon a time . . . there were three little pigs, who left their mummy and daddy to see the world.',\n",
    "    'There once lived a poor tailor, who had a son called Aladdin, a careless, idle boy who would do nothing but play all day long in the streets with little idle boys like himself.'\n",
    "]\n",
    "\n",
    "# Preprocess the query sentences\n",
    "query_docs = []\n",
    "\n",
    "for i in range(len(files1)):\n",
    "        \n",
    "    files1[i] = files1[i].lower()\n",
    "    #print(files1[i])\n",
    "    \n",
    "    words = files1[i].split()\n",
    "    \n",
    "    filtered_words = [word for word in words if word.lower() not in stop_words]\n",
    "    \n",
    "    files1[i]= ' '.join(filtered_words)\n",
    "\n",
    "    \n",
    "    files1[i] = files1[i].translate(translator)\n",
    "    \n",
    "\n",
    "    words1 = word_tokenize(files1[i])\n",
    "\n",
    "    lemmatized_words = [lemmatizer.lemmatize(word) for word in words1]\n",
    "    \n",
    "    files1[i] = \" \".join(lemmatized_words)\n",
    "    \n",
    "    #print(files1[i])\n",
    "    \n",
    "\n",
    "    words = files1[i].split()\n",
    "    for j in range(len(words)):\n",
    "        if words[i].isnumeric() and len(words[j]) <= 4:\n",
    "            words[j] = num2words(int(words[j]))\n",
    "    files[j]=' '.join(words)\n",
    "    query_docs.append(files[j])\n",
    "    \n",
    "\n",
    "#print(query_docs)\n",
    "\n",
    "# Compute TF-IDF vectors for the query sentences\n",
    "query_matrix = vectorizer.transform(query_docs)\n",
    "\n",
    "# Compute cosine similarities between query sentences and reference documents\n",
    "cos_sim_query_ref = cosine_similarity(query_matrix, tfidf_features)\n",
    "cos_sim_query_ref"
   ]
  },
  {
   "cell_type": "code",
   "execution_count": null,
   "id": "e9362a37",
   "metadata": {},
   "outputs": [],
   "source": []
  }
 ],
 "metadata": {
  "kernelspec": {
   "display_name": "Python 3 (ipykernel)",
   "language": "python",
   "name": "python3"
  },
  "language_info": {
   "codemirror_mode": {
    "name": "ipython",
    "version": 3
   },
   "file_extension": ".py",
   "mimetype": "text/x-python",
   "name": "python",
   "nbconvert_exporter": "python",
   "pygments_lexer": "ipython3",
   "version": "3.9.7"
  }
 },
 "nbformat": 4,
 "nbformat_minor": 5
}

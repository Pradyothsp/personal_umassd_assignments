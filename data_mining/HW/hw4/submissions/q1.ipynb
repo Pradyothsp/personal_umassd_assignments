{
 "cells": [
  {
   "cell_type": "markdown",
   "metadata": {
    "id": "ug1S4jhgr6WG"
   },
   "source": [
    "# Q1"
   ]
  },
  {
   "cell_type": "markdown",
   "source": [
    "## Importing the libraries"
   ],
   "metadata": {
    "collapsed": false
   }
  },
  {
   "cell_type": "code",
   "execution_count": 2,
   "metadata": {
    "id": "BKuyjGYPgibc"
   },
   "outputs": [],
   "source": [
    "from scipy.io import loadmat\n",
    "from sklearn.linear_model import LinearRegression, Ridge\n",
    "from sklearn.metrics import mean_squared_error\n",
    "from sklearn.model_selection import train_test_split\n",
    "from matplotlib import pyplot as plt"
   ]
  },
  {
   "cell_type": "markdown",
   "source": [
    "## Loading the data"
   ],
   "metadata": {
    "collapsed": false
   }
  },
  {
   "cell_type": "code",
   "execution_count": 3,
   "outputs": [],
   "source": [
    "df = loadmat(\"Assignment_4/Code&Data/Abalone.mat\")"
   ],
   "metadata": {
    "collapsed": false
   }
  },
  {
   "cell_type": "code",
   "execution_count": 4,
   "metadata": {
    "id": "2METu_MMgmFR"
   },
   "outputs": [],
   "source": [
    "labels = df['label_vector']  # labels = age values\n",
    "data = df['instance_matrix'].toarray()  #input features"
   ]
  },
  {
   "cell_type": "markdown",
   "source": [
    "## Splitting the data into train, test and validation sets"
   ],
   "metadata": {
    "collapsed": false
   }
  },
  {
   "cell_type": "code",
   "execution_count": 5,
   "metadata": {
    "id": "86CbH2q2kQ4I"
   },
   "outputs": [],
   "source": [
    "X_train, X_test, y_train, y_test = train_test_split(data, labels, test_size=0.5, random_state=12)\n",
    "\n",
    "X_test, X_val, y_test, y_val = train_test_split(X_test, y_test, test_size=0.4, random_state=12)"
   ]
  },
  {
   "cell_type": "code",
   "execution_count": 6,
   "metadata": {
    "colab": {
     "base_uri": "https://localhost:8080/"
    },
    "id": "oGqa891Ik1FQ",
    "outputId": "ec463088-b331-4f4e-8783-f2cc62ecddca"
   },
   "outputs": [
    {
     "name": "stdout",
     "output_type": "stream",
     "text": [
      "Training set size: 2088\n",
      "Validation set size: 836\n",
      "Test set size: 1253\n"
     ]
    }
   ],
   "source": [
    "print(f\"Training set size: {len(X_train)}\")\n",
    "print(f\"Validation set size: {len(X_val)}\")\n",
    "print(f\"Test set size: {len(X_test)}\")"
   ]
  },
  {
   "cell_type": "markdown",
   "source": [
    "## Linear Regression"
   ],
   "metadata": {
    "collapsed": false
   }
  },
  {
   "cell_type": "markdown",
   "source": [
    "### Using Linear regression to predict the values of age"
   ],
   "metadata": {
    "collapsed": false
   }
  },
  {
   "cell_type": "code",
   "execution_count": 7,
   "metadata": {
    "colab": {
     "base_uri": "https://localhost:8080/"
    },
    "id": "30C29XlQgwg_",
    "outputId": "17220754-6dd1-44bf-e68d-1f3cb1dc3bb6"
   },
   "outputs": [
    {
     "name": "stdout",
     "output_type": "stream",
     "text": [
      "Train Mean Squared Error: 4.983894728391374\n",
      "Validation Mean Squared Error: 4.659591750879813\n",
      "Test Mean Squared Error: 4.746460479684803\n"
     ]
    }
   ],
   "source": [
    "# Create a Linear Regression model and fit it to the training set\n",
    "lin_reg = LinearRegression()\n",
    "lin_reg.fit(X_train, y_train)\n",
    "\n",
    "# Compute the mean squared error on the training, validation, and test sets\n",
    "train_mse = mean_squared_error(y_train, lin_reg.predict(X_train))\n",
    "val_mse = mean_squared_error(y_val, lin_reg.predict(X_val))\n",
    "test_mse = mean_squared_error(y_test, lin_reg.predict(X_test))\n",
    "\n",
    "print(f\"Train Mean Squared Error: {train_mse}\")\n",
    "print(f\"Validation Mean Squared Error: {val_mse}\")\n",
    "print(f\"Test Mean Squared Error: {test_mse}\")"
   ]
  },
  {
   "cell_type": "code",
   "execution_count": 8,
   "metadata": {
    "colab": {
     "base_uri": "https://localhost:8080/"
    },
    "id": "DsS9UcLTrLz4",
    "outputId": "7e48b0ae-4e73-4b02-b0cc-d9b9eb1b3567"
   },
   "outputs": [
    {
     "name": "stdout",
     "output_type": "stream",
     "text": [
      "Test Mean Squared Error: 4.746460479684803\n"
     ]
    }
   ],
   "source": [
    "print(f\"Test Mean Squared Error: {mean_squared_error(y_test, lin_reg.predict(X_test))}\")"
   ]
  },
  {
   "cell_type": "markdown",
   "source": [
    "## Ridge Regression"
   ],
   "metadata": {
    "collapsed": false
   }
  },
  {
   "cell_type": "markdown",
   "source": [
    "### Using Ridge regression to predict the values of age"
   ],
   "metadata": {
    "collapsed": false
   }
  },
  {
   "cell_type": "code",
   "execution_count": 9,
   "outputs": [],
   "source": [
    "# Create an empty list to store validation MSE for different alpha values\n",
    "val_mse = []\n",
    "\n",
    "# Create empty lists to store all alpha values and beta coefficients for different alpha values\n",
    "all_alphas = []\n",
    "beta_coefficients = []\n",
    "\n",
    "# Set the starting value of alpha as 10^(-4)\n",
    "alpha = 10 ** (-4)\n",
    "\n",
    "# Iterating until alpha reaches 10^5\n",
    "while alpha < 10 ** 5:\n",
    "    # Append the current alpha value to the list of all alpha values\n",
    "    all_alphas.append(alpha)\n",
    "\n",
    "    # Create a Ridge model with the current alpha value, fit it to the training set, and record the beta coefficients\n",
    "    ridge_reg = Ridge(alpha=alpha)\n",
    "    ridge_reg.fit(X_train, y_train)\n",
    "    beta_coefficients.append(ridge_reg.coef_)\n",
    "\n",
    "    # Record the validation MSE for the current alpha value\n",
    "    val_mse.append([alpha, mean_squared_error(y_val, ridge_reg.predict(X_val))])\n",
    "\n",
    "    # Increase alpha by a factor of 10 for the next iteration\n",
    "    alpha *= 10\n"
   ],
   "metadata": {
    "collapsed": false
   }
  },
  {
   "cell_type": "markdown",
   "source": [
    "### Display the list of validation MSE values for different alpha values"
   ],
   "metadata": {
    "collapsed": false
   }
  },
  {
   "cell_type": "code",
   "execution_count": 10,
   "outputs": [
    {
     "name": "stdout",
     "output_type": "stream",
     "text": [
      "Alpha: 0.1000, Validation MSE: 4.6581\n",
      "Alpha: 0.0100, Validation MSE: 4.6593\n",
      "Alpha: 0.0010, Validation MSE: 4.6596\n",
      "Alpha: 0.0001, Validation MSE: 4.6596\n",
      "Alpha: 1.0000, Validation MSE: 4.7138\n",
      "Alpha: 10.0000, Validation MSE: 5.4965\n",
      "Alpha: 100.0000, Validation MSE: 6.7964\n",
      "Alpha: 1000.0000, Validation MSE: 8.0063\n",
      "Alpha: 10000.0000, Validation MSE: 10.0722\n"
     ]
    }
   ],
   "source": [
    "# Sort the list of validation MSE values for different alpha values by increasing MSE\n",
    "sorted_val_mse = sorted(val_mse, key=lambda x: x[1])\n",
    "\n",
    "# Display the sorted list of validation MSE values\n",
    "for alpha, mse in sorted_val_mse:\n",
    "    print(f\"Alpha: {alpha:.4f}, Validation MSE: {mse:.4f}\")\n"
   ],
   "metadata": {
    "collapsed": false
   }
  },
  {
   "cell_type": "markdown",
   "source": [
    "### Display the list of beta coefficients for each feature"
   ],
   "metadata": {
    "collapsed": false
   }
  },
  {
   "cell_type": "code",
   "execution_count": 11,
   "outputs": [
    {
     "name": "stdout",
     "output_type": "stream",
     "text": [
      "Test Mean Squared Error for alpha = 0.1000:4.7465\n"
     ]
    }
   ],
   "source": [
    "# Create a Ridge model with the alpha value that resulted in the lowest validation MSE and fit it to the training set\n",
    "best_alpha = sorted_val_mse[0][0]\n",
    "ridge_reg = Ridge(alpha=best_alpha)\n",
    "ridge_reg.fit(X_train, y_train)\n",
    "\n",
    "# Compute the mean squared error on the test set using the Ridge model with the best alpha value\n",
    "test_mse = mean_squared_error(y_test, ridge_reg.predict(X_test))\n",
    "print(f\"Test Mean Squared Error for alpha = {best_alpha:.4f}:{test_mse:.4f}\")\n"
   ],
   "metadata": {
    "collapsed": false
   }
  },
  {
   "cell_type": "markdown",
   "source": [
    "### Plot the beta coefficients for each feature as a function of the alpha value"
   ],
   "metadata": {
    "collapsed": false
   }
  },
  {
   "cell_type": "code",
   "execution_count": 12,
   "metadata": {
    "colab": {
     "base_uri": "https://localhost:8080/",
     "height": 1000
    },
    "id": "whjkMCp2ouVA",
    "outputId": "18b28fc3-17d4-489c-ff71-0f28710430f7"
   },
   "outputs": [
    {
     "data": {
      "text/plain": "<Figure size 1200x1400 with 8 Axes>",
      "image/png": "[encoded data removed]"
     },
     "metadata": {},
     "output_type": "display_data"
    }
   ],
   "source": [
    "# Create a bar plot to visualize how the beta coefficients vary with different alpha values\n",
    "# Set the figure size\n",
    "plt.figure(figsize=(12, 14))\n",
    "\n",
    "# Iterate over the first 8 features and plot the corresponding beta coefficients for each alpha value\n",
    "for i in range(8):\n",
    "    # Create a subplot for each feature\n",
    "    plt.subplot(4, 2, i + 1)\n",
    "    # Extract the beta coefficients for the current feature\n",
    "    beta_i = [beta[0][i] for beta in beta_coefficients]\n",
    "    # Plot the beta coefficients for the current feature as a function of the alpha value\n",
    "    plt.bar(beta_i, all_alphas, color='blue', width=0.4)\n",
    "\n",
    "    # Set the x and y labels, title, and ticks\n",
    "    plt.xlabel(\"Alpha value\")\n",
    "    plt.ylabel(\"Beta coefficient\")\n",
    "    plt.title(f\"Feature {i+1} over multiple alpha values\")\n",
    "    plt.xticks(())\n",
    "    plt.yticks(())\n",
    "\n",
    "plt.show()"
   ]
  },
  {
   "cell_type": "code",
   "execution_count": 12,
   "outputs": [],
   "source": [],
   "metadata": {
    "collapsed": false
   }
  }
 ],
 "metadata": {
  "colab": {
   "collapsed_sections": [],
   "name": "tejesh.ipynb",
   "provenance": []
  },
  "kernelspec": {
   "display_name": "Python 3",
   "name": "python3"
  },
  "language_info": {
   "name": "python"
  }
 },
 "nbformat": 4,
 "nbformat_minor": 0
}

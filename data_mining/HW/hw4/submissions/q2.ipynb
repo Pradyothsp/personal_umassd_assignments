{
 "cells": [
  {
   "cell_type": "markdown",
   "id": "e72c78fe",
   "metadata": {},
   "source": [
    "# 2a)"
   ]
  },
  {
   "cell_type": "markdown",
   "source": [
    "# Importing data"
   ],
   "metadata": {
    "collapsed": false
   }
  },
  {
   "cell_type": "code",
   "execution_count": 1,
   "id": "34a6149e",
   "metadata": {},
   "outputs": [],
   "source": [
    "import time\n",
    "\n",
    "import numpy as np\n",
    "import pandas as pd\n",
    "from scipy.io import loadmat\n",
    "from sklearn.metrics import accuracy_score\n",
    "from sklearn.neighbors import KNeighborsClassifier\n",
    "from sklearn.preprocessing import StandardScaler"
   ]
  },
  {
   "cell_type": "markdown",
   "source": [
    "# Loading data"
   ],
   "metadata": {
    "collapsed": false
   }
  },
  {
   "cell_type": "code",
   "execution_count": null,
   "outputs": [],
   "source": [
    "data = loadmat('Assignment_4/Code&Data/PIE.mat')"
   ],
   "metadata": {
    "collapsed": false
   }
  },
  {
   "cell_type": "code",
   "execution_count": 2,
   "id": "4e173160",
   "metadata": {},
   "outputs": [],
   "source": [
    "Data = data['Data']\n",
    "Labels = data['Label']"
   ]
  },
  {
   "cell_type": "code",
   "execution_count": 3,
   "id": "bc350190",
   "metadata": {},
   "outputs": [
    {
     "name": "stderr",
     "output_type": "stream",
     "text": [
      "/Volumes/work/personal_umassd_assignments/data_mining/HW/hw4/.venv/lib/python3.11/site-packages/sklearn/neighbors/_classification.py:215: DataConversionWarning: A column-vector y was passed when a 1d array was expected. Please change the shape of y to (n_samples,), for example using ravel().\n",
      "  return self._fit(X, y)\n",
      "/Volumes/work/personal_umassd_assignments/data_mining/HW/hw4/.venv/lib/python3.11/site-packages/sklearn/neighbors/_classification.py:215: DataConversionWarning: A column-vector y was passed when a 1d array was expected. Please change the shape of y to (n_samples,), for example using ravel().\n",
      "  return self._fit(X, y)\n",
      "/Volumes/work/personal_umassd_assignments/data_mining/HW/hw4/.venv/lib/python3.11/site-packages/sklearn/neighbors/_classification.py:215: DataConversionWarning: A column-vector y was passed when a 1d array was expected. Please change the shape of y to (n_samples,), for example using ravel().\n",
      "  return self._fit(X, y)\n"
     ]
    }
   ],
   "source": [
    "Train_Acc = []\n",
    "Test_Acc = []\n",
    "Running_Time = []\n",
    "\n",
    "for i in range(5, 16, 5):\n",
    "    n_sub = 21\n",
    "    Train_Data = []\n",
    "    Test_Data = []\n",
    "    Train_Labels = []\n",
    "    Test_Labels = []\n",
    "\n",
    "    for j in range(1, 68):\n",
    "        Train_Data.append(Data[(j - 1) * n_sub:(j - 1) * n_sub + i])\n",
    "        Test_Data.append(Data[(j - 1) * n_sub + i:j * n_sub])\n",
    "        Train_Labels.append(Labels[(j - 1) * n_sub:(j - 1) * n_sub + i])\n",
    "        Test_Labels.append(Labels[(j - 1) * n_sub + i:j * n_sub])\n",
    "\n",
    "    Train_Data = np.array(Train_Data).reshape(len(Train_Data * i), 900)\n",
    "    Test_Data = np.array(Test_Data).reshape(len(Test_Data * (n_sub - i)), 900)\n",
    "    Train_Labels = np.array(Train_Labels).reshape(len(Train_Labels) * Train_Labels[0].shape[0], 1)\n",
    "    Test_Labels = np.array(Test_Labels).reshape(len(Test_Labels) * Test_Labels[0].shape[0], 1)\n",
    "\n",
    "    start = time.time()\n",
    "\n",
    "    # Standarization\n",
    "    scaler = StandardScaler()\n",
    "    Data_Train = scaler.fit_transform(Train_Data)\n",
    "    Data_Test = scaler.transform(Test_Data)\n",
    "\n",
    "    # Calculating Covariance matrix, Eigenvectors and Eigen values\n",
    "    covariance_matrix = np.cov(Data_Train.T)\n",
    "    values, vectors = np.linalg.eigh(covariance_matrix)\n",
    "\n",
    "    # sorting based on eigen values\n",
    "    Eigen_pairs = [(np.abs(values[k]), vectors[:, k]) for k in range(len(values))]\n",
    "    Eigen_pairs = sorted(Eigen_pairs, key=lambda k: k[0], reverse=True)\n",
    "\n",
    "    # Transforming from 900 to 100\n",
    "    PCA_Transformed_Train = Data_Train.dot(np.transpose(np.array([a[1] for a in Eigen_pairs[0:100]])))\n",
    "    PCA_Transformed_Test = Data_Test.dot(np.transpose(np.array([a[1] for a in Eigen_pairs[0:100]])))\n",
    "\n",
    "    #KNN classifier\n",
    "    KNN = KNeighborsClassifier(n_neighbors=5)\n",
    "    KNN.fit(PCA_Transformed_Train, Train_Labels)\n",
    "\n",
    "    Train_Acc.append(accuracy_score(Train_Labels, KNN.predict(PCA_Transformed_Train)))\n",
    "    Test_Acc.append(accuracy_score(Test_Labels, KNN.predict(PCA_Transformed_Test)))\n",
    "    end = time.time()\n",
    "\n",
    "    # Running Time\n",
    "    Running_Time.append(end - start)\n",
    "\n",
    "#TABLE\n",
    "TABLE_PCA = pd.DataFrame(list(zip(Train_Acc, Test_Acc, Running_Time)),\n",
    "                         columns=[\"Training Accuracy using PCA\", \"Testing Accuracy using PCA\", \"Running Time\"])\n"
   ]
  },
  {
   "cell_type": "code",
   "execution_count": 4,
   "id": "3b838582",
   "metadata": {},
   "outputs": [
    {
     "name": "stderr",
     "output_type": "stream",
     "text": [
      "/Users/varun/opt/anaconda3/lib/python3.9/site-packages/sklearn/neighbors/_classification.py:207: DataConversionWarning: A column-vector y was passed when a 1d array was expected. Please change the shape of y to (n_samples,), for example using ravel().\n",
      "  return self._fit(X, y)\n",
      "/Users/varun/opt/anaconda3/lib/python3.9/site-packages/sklearn/neighbors/_classification.py:207: DataConversionWarning: A column-vector y was passed when a 1d array was expected. Please change the shape of y to (n_samples,), for example using ravel().\n",
      "  return self._fit(X, y)\n",
      "/Users/varun/opt/anaconda3/lib/python3.9/site-packages/sklearn/neighbors/_classification.py:207: DataConversionWarning: A column-vector y was passed when a 1d array was expected. Please change the shape of y to (n_samples,), for example using ravel().\n",
      "  return self._fit(X, y)\n"
     ]
    }
   ],
   "source": [
    "i = 5\n",
    "sw = np.zeros((900, 900))\n",
    "Train_Acc_LDA = []\n",
    "Test_Acc_LDA = []\n",
    "Running_Time1 = []\n",
    "meanv = []\n",
    "\n",
    "for i in range(5, 16, 5):\n",
    "    n_sub = 21\n",
    "    Train_Data = []\n",
    "    Test_Data = []\n",
    "    Train_Labels = []\n",
    "    Test_Labels = []\n",
    "\n",
    "    for j in range(1, 68):\n",
    "        Train_Data.append(Data[(j - 1) * n_sub:(j - 1) * n_sub + i])\n",
    "        meanv.append(np.mean(Train_Data[-1], axis=0))\n",
    "\n",
    "        # Calculating matrix\n",
    "        sw += (np.matrix(Train_Data[-1] - meanv[-1]).T).dot(Train_Data[-1] - meanv[-1])\n",
    "        Test_Data.append(Data[(j - 1) * n_sub + i:j * n_sub])\n",
    "        Train_Labels.append(Labels[(j - 1) * n_sub:(j - 1) * n_sub + i])\n",
    "        Test_Labels.append(Labels[(j - 1) * n_sub + i:j * n_sub])\n",
    "\n",
    "    Train_Data = np.array(Train_Data).reshape(len(Train_Data * i), 900)\n",
    "    Test_Data = np.array(Test_Data).reshape(len(Test_Data * (n_sub - i)), 900)\n",
    "    Train_Labels = np.array(Train_Labels).reshape(len(Train_Labels) * Train_Labels[0].shape[0], 1)\n",
    "    Test_Labels = np.array(Test_Labels).reshape(len(Test_Labels) * Test_Labels[0].shape[0], 1)\n",
    "\n",
    "    start = time.time()\n",
    "\n",
    "    #Computing the scatter matrix between classes, sb\n",
    "    sb = np.zeros((900, 900))\n",
    "    mean_t = np.mean(Train_Data, axis=0)\n",
    "    for k in meanv:\n",
    "        sb += (i) * ((np.matrix(k - mean_t).T).dot(np.matrix(k - mean_t)))\n",
    "\n",
    "        #Calculating Eigenvectors and Eigen values\n",
    "    values, vectors = np.linalg.eigh(np.linalg.inv(sw).dot(sb))\n",
    "\n",
    "    # sorting based on eigen values\n",
    "    Eigen_pairs = [(np.abs(values[k]), vectors[:, k]) for k in range(len(values))]\n",
    "    Eigen_pairs = sorted(Eigen_pairs, key=lambda k: k[0], reverse=True)\n",
    "\n",
    "    # Transforming from 900 to 100\n",
    "    LDA_Transformed_Train = Train_Data.dot(np.transpose(np.array([a[1] for a in Eigen_pairs[0:100]])))\n",
    "    lda_Transformed_test = Test_Data.dot(np.transpose(np.array([a[1] for a in Eigen_pairs[0:100]])))\n",
    "\n",
    "    #KNN classifier\n",
    "    KNN1 = KNeighborsClassifier(n_neighbors=5)\n",
    "    KNN1.fit(LDA_Transformed_Train, Train_Labels)\n",
    "    # recording train and test accuracies\n",
    "    Train_Acc_LDA.append(accuracy_score(Train_Labels, KNN1.predict(LDA_Transformed_Train)))\n",
    "    Test_Acc_LDA.append(accuracy_score(Test_Labels, KNN1.predict(lda_Transformed_test)))\n",
    "    end = time.time()\n",
    "\n",
    "    # recoding running time\n",
    "    Running_Time1.append(end - start)\n",
    "\n",
    "TABLE_LDA = pd.DataFrame(list(zip(Train_Acc_LDA, Test_Acc_LDA, Running_Time1)),\n",
    "                         columns=[\"Training Accuracy using LDA\", \"Testing Accuracy using LDA\", \"Running Time\"])\n"
   ]
  },
  {
   "cell_type": "code",
   "execution_count": 5,
   "id": "02465bf0",
   "metadata": {},
   "outputs": [],
   "source": [
    "FINAL_TABLE = pd.concat([TABLE_PCA, TABLE_LDA], axis=1)\n",
    "new_col = [5, 10, 15]\n",
    "\n",
    "# Inserting the column at the\n",
    "# beginning in the DataFrame\n",
    "FINAL_TABLE.insert(loc=0,\n",
    "                   column='Training Time',\n",
    "                   value=new_col)"
   ]
  },
  {
   "cell_type": "code",
   "execution_count": 6,
   "id": "9757f916",
   "metadata": {},
   "outputs": [
    {
     "data": {
      "text/html": [
       "<div>\n",
       "<style scoped>\n",
       "    .dataframe tbody tr th:only-of-type {\n",
       "        vertical-align: middle;\n",
       "    }\n",
       "\n",
       "    .dataframe tbody tr th {\n",
       "        vertical-align: top;\n",
       "    }\n",
       "\n",
       "    .dataframe thead th {\n",
       "        text-align: right;\n",
       "    }\n",
       "</style>\n",
       "<table border=\"1\" class=\"dataframe\">\n",
       "  <thead>\n",
       "    <tr style=\"text-align: right;\">\n",
       "      <th></th>\n",
       "      <th>Training Time</th>\n",
       "      <th>Training Accuracy using PCA</th>\n",
       "      <th>Testing Accuracy using PCA</th>\n",
       "      <th>Running Time</th>\n",
       "      <th>Training Accuracy using LDA</th>\n",
       "      <th>Testing Accuracy using LDA</th>\n",
       "      <th>Running Time</th>\n",
       "    </tr>\n",
       "  </thead>\n",
       "  <tbody>\n",
       "    <tr>\n",
       "      <th>0</th>\n",
       "      <td>5</td>\n",
       "      <td>0.877612</td>\n",
       "      <td>0.434701</td>\n",
       "      <td>0.172461</td>\n",
       "      <td>0.859701</td>\n",
       "      <td>0.396455</td>\n",
       "      <td>0.340593</td>\n",
       "    </tr>\n",
       "    <tr>\n",
       "      <th>1</th>\n",
       "      <td>10</td>\n",
       "      <td>0.943284</td>\n",
       "      <td>0.500678</td>\n",
       "      <td>0.300681</td>\n",
       "      <td>0.929851</td>\n",
       "      <td>0.473541</td>\n",
       "      <td>0.575368</td>\n",
       "    </tr>\n",
       "    <tr>\n",
       "      <th>2</th>\n",
       "      <td>15</td>\n",
       "      <td>0.981095</td>\n",
       "      <td>0.975124</td>\n",
       "      <td>0.299624</td>\n",
       "      <td>0.981095</td>\n",
       "      <td>0.972637</td>\n",
       "      <td>0.603167</td>\n",
       "    </tr>\n",
       "  </tbody>\n",
       "</table>\n",
       "</div>"
      ],
      "text/plain": [
       "   Training Time  Training Accuracy using PCA  Testing Accuracy using PCA  \\\n",
       "0              5                     0.877612                    0.434701   \n",
       "1             10                     0.943284                    0.500678   \n",
       "2             15                     0.981095                    0.975124   \n",
       "\n",
       "   Running Time  Training Accuracy using LDA  Testing Accuracy using LDA  \\\n",
       "0      0.172461                     0.859701                    0.396455   \n",
       "1      0.300681                     0.929851                    0.473541   \n",
       "2      0.299624                     0.981095                    0.972637   \n",
       "\n",
       "   Running Time  \n",
       "0      0.340593  \n",
       "1      0.575368  \n",
       "2      0.603167  "
      ]
     },
     "execution_count": 6,
     "metadata": {},
     "output_type": "execute_result"
    }
   ],
   "source": [
    "FINAL_TABLE"
   ]
  },
  {
   "cell_type": "markdown",
   "id": "2627c9e6",
   "metadata": {},
   "source": [
    "# 2b)"
   ]
  },
  {
   "cell_type": "code",
   "execution_count": 7,
   "id": "fd9e9e76",
   "metadata": {},
   "outputs": [
    {
     "name": "stderr",
     "output_type": "stream",
     "text": [
      "/Users/varun/opt/anaconda3/lib/python3.9/site-packages/sklearn/neighbors/_classification.py:207: DataConversionWarning: A column-vector y was passed when a 1d array was expected. Please change the shape of y to (n_samples,), for example using ravel().\n",
      "  return self._fit(X, y)\n",
      "/Users/varun/opt/anaconda3/lib/python3.9/site-packages/sklearn/neighbors/_classification.py:207: DataConversionWarning: A column-vector y was passed when a 1d array was expected. Please change the shape of y to (n_samples,), for example using ravel().\n",
      "  return self._fit(X, y)\n",
      "/Users/varun/opt/anaconda3/lib/python3.9/site-packages/sklearn/neighbors/_classification.py:207: DataConversionWarning: A column-vector y was passed when a 1d array was expected. Please change the shape of y to (n_samples,), for example using ravel().\n",
      "  return self._fit(X, y)\n"
     ]
    }
   ],
   "source": [
    "from sklearn.decomposition import PCA\n",
    "from sklearn.discriminant_analysis import LinearDiscriminantAnalysis\n",
    "\n",
    "Train_Acc = []\n",
    "Test_Acc = []\n",
    "Running_Time_PCA = []\n",
    "\n",
    "for i in range(5, 16, 5):\n",
    "\n",
    "    n_sub = 21\n",
    "\n",
    "    Train_Data = []\n",
    "    Test_Data = []\n",
    "    Train_Labels = []\n",
    "    Test_Labels = []\n",
    "\n",
    "    for j in range(1, 68):\n",
    "        Train_Data.append(Data[(j - 1) * n_sub:(j - 1) * n_sub + i])\n",
    "        Test_Data.append(Data[(j - 1) * n_sub + i:j * n_sub])\n",
    "        Train_Labels.append(Labels[(j - 1) * n_sub:(j - 1) * n_sub + i])\n",
    "        Test_Labels.append(Labels[(j - 1) * n_sub + i:j * n_sub])\n",
    "\n",
    "    Train_Data = np.array(Train_Data).reshape(len(Train_Data * i), 900)\n",
    "    Test_Data = np.array(Test_Data).reshape(len(Test_Data * (n_sub - i)), 900)\n",
    "    Train_Labels = np.array(Train_Labels).reshape(len(Train_Labels) * Train_Labels[0].shape[0], 1)\n",
    "    Test_Labels = np.array(Test_Labels).reshape(len(Test_Labels) * Test_Labels[0].shape[0], 1)\n",
    "\n",
    "    start = time.time()\n",
    "    PCA1 = PCA(n_components=100)\n",
    "    PCA_Transformed_Train = PCA1.fit_transform(Train_Data)\n",
    "    PCA_Transformed_Test = PCA1.transform(Test_Data)\n",
    "\n",
    "    KNN_PCA = KNeighborsClassifier(n_neighbors=5)\n",
    "    KNN_PCA.fit(PCA_Transformed_Train, Train_Labels)\n",
    "\n",
    "    # recording train and test accuracies\n",
    "    Train_Acc.append(accuracy_score(Train_Labels, KNN_PCA.predict(PCA_Transformed_Train)))\n",
    "    Test_Acc.append(accuracy_score(Test_Labels, KNN_PCA.predict(PCA_Transformed_Test)))\n",
    "    end = time.time()\n",
    "\n",
    "    # recoding running time\n",
    "    Running_Time_PCA.append(end - start)\n",
    "\n",
    "TABLES_PCA_1 = pd.DataFrame(list(zip(Train_Acc, Test_Acc, Running_Time_PCA)),\n",
    "                            columns=[\"Training Accuracy using PCA\", \"Testing Accuracy using PCA\", \"Running Time\"])\n"
   ]
  },
  {
   "cell_type": "code",
   "execution_count": 8,
   "id": "7473f7ab",
   "metadata": {},
   "outputs": [
    {
     "name": "stderr",
     "output_type": "stream",
     "text": [
      "/Users/varun/opt/anaconda3/lib/python3.9/site-packages/sklearn/utils/validation.py:1111: DataConversionWarning: A column-vector y was passed when a 1d array was expected. Please change the shape of y to (n_samples, ), for example using ravel().\n",
      "  y = column_or_1d(y, warn=True)\n",
      "/Users/varun/opt/anaconda3/lib/python3.9/site-packages/sklearn/neighbors/_classification.py:207: DataConversionWarning: A column-vector y was passed when a 1d array was expected. Please change the shape of y to (n_samples,), for example using ravel().\n",
      "  return self._fit(X, y)\n",
      "/Users/varun/opt/anaconda3/lib/python3.9/site-packages/sklearn/utils/validation.py:1111: DataConversionWarning: A column-vector y was passed when a 1d array was expected. Please change the shape of y to (n_samples, ), for example using ravel().\n",
      "  y = column_or_1d(y, warn=True)\n",
      "/Users/varun/opt/anaconda3/lib/python3.9/site-packages/sklearn/neighbors/_classification.py:207: DataConversionWarning: A column-vector y was passed when a 1d array was expected. Please change the shape of y to (n_samples,), for example using ravel().\n",
      "  return self._fit(X, y)\n",
      "/Users/varun/opt/anaconda3/lib/python3.9/site-packages/sklearn/utils/validation.py:1111: DataConversionWarning: A column-vector y was passed when a 1d array was expected. Please change the shape of y to (n_samples, ), for example using ravel().\n",
      "  y = column_or_1d(y, warn=True)\n",
      "/Users/varun/opt/anaconda3/lib/python3.9/site-packages/sklearn/neighbors/_classification.py:207: DataConversionWarning: A column-vector y was passed when a 1d array was expected. Please change the shape of y to (n_samples,), for example using ravel().\n",
      "  return self._fit(X, y)\n"
     ]
    }
   ],
   "source": [
    "Train_Acc_LDA = []\n",
    "Test_Acc_LDA = []\n",
    "Running_Time_LDA = []\n",
    "\n",
    "for i in range(5, 16, 5):\n",
    "\n",
    "    n_sub = 21\n",
    "\n",
    "    Train_Data = []\n",
    "    Test_Data = []\n",
    "    Train_Labels = []\n",
    "    Test_Labels = []\n",
    "\n",
    "    for j in range(1, 68):\n",
    "        Train_Data.append(Data[(j - 1) * n_sub:(j - 1) * n_sub + i])\n",
    "        Test_Data.append(Data[(j - 1) * n_sub + i:j * n_sub])\n",
    "        Train_Labels.append(Labels[(j - 1) * n_sub:(j - 1) * n_sub + i])\n",
    "        Test_Labels.append(Labels[(j - 1) * n_sub + i:j * n_sub])\n",
    "\n",
    "    Train_Data = np.array(Train_Data).reshape(len(Train_Data * i), 900)\n",
    "    Test_Data = np.array(Test_Data).reshape(len(Test_Data * (n_sub - i)), 900)\n",
    "    Train_Labels = np.array(Train_Labels).reshape(len(Train_Labels) * Train_Labels[0].shape[0], 1)\n",
    "    Test_Labels = np.array(Test_Labels).reshape(len(Test_Labels) * Test_Labels[0].shape[0], 1)\n",
    "\n",
    "    start = time.time()\n",
    "\n",
    "    LDA = LinearDiscriminantAnalysis(n_components=66)\n",
    "    LDA_Transformed_Train = LDA.fit_transform(Train_Data, Train_Labels)\n",
    "    LDA_Transformed_Test = LDA.transform(Test_Data)\n",
    "\n",
    "    KNN_LDA = KNeighborsClassifier(n_neighbors=5)\n",
    "    KNN_LDA.fit(LDA_Transformed_Train, Train_Labels)\n",
    "\n",
    "    Train_Acc_LDA.append(accuracy_score(Train_Labels, KNN_LDA.predict(LDA_Transformed_Train)))\n",
    "    Test_Acc_LDA.append(accuracy_score(Test_Labels, KNN_LDA.predict(LDA_Transformed_Test)))\n",
    "    end = time.time()\n",
    "\n",
    "    # recoding running time\n",
    "    Running_Time_LDA.append(end - start)\n",
    "\n",
    "TABLES_LDA_1 = pd.DataFrame(list(zip(Train_Acc_LDA, Test_Acc_LDA, Running_Time_LDA)),\n",
    "                            columns=[\"Training Accuracy using LDA\", \"Testing Accuracy using LDA\", \"Running Time\"])"
   ]
  },
  {
   "cell_type": "code",
   "execution_count": 9,
   "id": "b2e698e4",
   "metadata": {},
   "outputs": [],
   "source": [
    "TABLES = pd.concat([TABLES_PCA_1, TABLES_LDA_1], axis=1)\n",
    "new_col = [5, 10, 15]\n",
    "\n",
    "# Inserting the column at the\n",
    "# beginning in the DataFrame\n",
    "TABLES.insert(loc=0,\n",
    "              column='Training Time',\n",
    "              value=new_col)"
   ]
  },
  {
   "cell_type": "code",
   "execution_count": 10,
   "id": "9261fb76",
   "metadata": {},
   "outputs": [
    {
     "data": {
      "text/html": [
       "<div>\n",
       "<style scoped>\n",
       "    .dataframe tbody tr th:only-of-type {\n",
       "        vertical-align: middle;\n",
       "    }\n",
       "\n",
       "    .dataframe tbody tr th {\n",
       "        vertical-align: top;\n",
       "    }\n",
       "\n",
       "    .dataframe thead th {\n",
       "        text-align: right;\n",
       "    }\n",
       "</style>\n",
       "<table border=\"1\" class=\"dataframe\">\n",
       "  <thead>\n",
       "    <tr style=\"text-align: right;\">\n",
       "      <th></th>\n",
       "      <th>Training Time</th>\n",
       "      <th>Training Accuracy using PCA</th>\n",
       "      <th>Testing Accuracy using PCA</th>\n",
       "      <th>Running Time</th>\n",
       "      <th>Training Accuracy using LDA</th>\n",
       "      <th>Testing Accuracy using LDA</th>\n",
       "      <th>Running Time</th>\n",
       "    </tr>\n",
       "  </thead>\n",
       "  <tbody>\n",
       "    <tr>\n",
       "      <th>0</th>\n",
       "      <td>5</td>\n",
       "      <td>0.910448</td>\n",
       "      <td>0.448694</td>\n",
       "      <td>0.106400</td>\n",
       "      <td>1.0</td>\n",
       "      <td>0.527985</td>\n",
       "      <td>0.224739</td>\n",
       "    </tr>\n",
       "    <tr>\n",
       "      <th>1</th>\n",
       "      <td>10</td>\n",
       "      <td>0.947761</td>\n",
       "      <td>0.515604</td>\n",
       "      <td>0.123593</td>\n",
       "      <td>1.0</td>\n",
       "      <td>0.754410</td>\n",
       "      <td>0.356384</td>\n",
       "    </tr>\n",
       "    <tr>\n",
       "      <th>2</th>\n",
       "      <td>15</td>\n",
       "      <td>0.986070</td>\n",
       "      <td>0.980100</td>\n",
       "      <td>0.144407</td>\n",
       "      <td>1.0</td>\n",
       "      <td>0.985075</td>\n",
       "      <td>0.430748</td>\n",
       "    </tr>\n",
       "  </tbody>\n",
       "</table>\n",
       "</div>"
      ],
      "text/plain": [
       "   Training Time  Training Accuracy using PCA  Testing Accuracy using PCA  \\\n",
       "0              5                     0.910448                    0.448694   \n",
       "1             10                     0.947761                    0.515604   \n",
       "2             15                     0.986070                    0.980100   \n",
       "\n",
       "   Running Time  Training Accuracy using LDA  Testing Accuracy using LDA  \\\n",
       "0      0.106400                          1.0                    0.527985   \n",
       "1      0.123593                          1.0                    0.754410   \n",
       "2      0.144407                          1.0                    0.985075   \n",
       "\n",
       "   Running Time  \n",
       "0      0.224739  \n",
       "1      0.356384  \n",
       "2      0.430748  "
      ]
     },
     "execution_count": 10,
     "metadata": {},
     "output_type": "execute_result"
    }
   ],
   "source": [
    "TABLES"
   ]
  },
  {
   "cell_type": "code",
   "execution_count": null,
   "id": "ff9d8fe5",
   "metadata": {},
   "outputs": [],
   "source": []
  },
  {
   "cell_type": "markdown",
   "id": "a1d76d33",
   "metadata": {},
   "source": [
    "# 2c)"
   ]
  },
  {
   "cell_type": "code",
   "execution_count": 12,
   "id": "b2184f08",
   "metadata": {},
   "outputs": [
    {
     "data": {
      "image/png": "[encoded data removed]",
      "text/plain": [
       "<Figure size 1080x216 with 5 Axes>"
      ]
     },
     "metadata": {
      "needs_background": "light"
     },
     "output_type": "display_data"
    }
   ],
   "source": [
    "\n",
    "from sklearn.decomposition import PCA\n",
    "import matplotlib.pyplot as plt\n",
    "\n",
    "# Load dataset and flatten images\n",
    "data = loadmat('/Users/varun/Downloads/Assignment_4/Code&Data/PIE.mat')\n",
    "#Access data from .mat file\n",
    "variable1 = data['Data']\n",
    "variable2 = data['Label']\n",
    "n_samples, n_features = variable1.shape\n",
    "X_flat = variable1.reshape((n_samples, -1))\n",
    "\n",
    "# Perform PCA with n_components=5\n",
    "pca = PCA(n_components=100)\n",
    "X_pca = pca.fit_transform(X_flat)\n",
    "\n",
    "# Get the first five leading eigenvectors\n",
    "eigenfaces = pca.components_.reshape((100, 30, 30))\n",
    "\n",
    "# Plot the EigenFaces\n",
    "fig, axs = plt.subplots(1, 5, figsize=(15, 3))\n",
    "for i in range(5):\n",
    "    axs[i].imshow(eigenfaces[i], cmap='gray')\n",
    "    axs[i].set_title(f'EigenFace {i + 1}')\n",
    "    axs[i].axis('off')\n",
    "\n",
    "plt.show()\n",
    "\n"
   ]
  },
  {
   "cell_type": "code",
   "execution_count": null,
   "id": "c29fe346",
   "metadata": {},
   "outputs": [],
   "source": []
  }
 ],
 "metadata": {
  "kernelspec": {
   "display_name": "Python 3 (ipykernel)",
   "language": "python",
   "name": "python3"
  },
  "language_info": {
   "codemirror_mode": {
    "name": "ipython",
    "version": 3
   },
   "file_extension": ".py",
   "mimetype": "text/x-python",
   "name": "python",
   "nbconvert_exporter": "python",
   "pygments_lexer": "ipython3",
   "version": "3.9.7"
  }
 },
 "nbformat": 4,
 "nbformat_minor": 5
}
